{
 "cells": [
  {
   "cell_type": "markdown",
   "metadata": {},
   "source": [
    "## intermediate级别session\n",
    "\n",
    "- [Monitoring Tropical Storms for Emergency Preparedness](https://arset.gsfc.nasa.gov/disasters/webinars/18-tropical-storms)\n",
    "- [Introductory Webinar: Earth Observations for Disaster Risk Assessment & Resilience](https://arset.gsfc.nasa.gov/disasters/webinars/19-DRA)"
   ]
  }
 ],
 "metadata": {
  "kernelspec": {
   "display_name": "Python 3",
   "language": "python",
   "name": "python3"
  },
  "language_info": {
   "codemirror_mode": {
    "name": "ipython",
    "version": 3
   },
   "file_extension": ".py",
   "mimetype": "text/x-python",
   "name": "python",
   "nbconvert_exporter": "python",
   "pygments_lexer": "ipython3",
   "version": "3.7.6"
  }
 },
 "nbformat": 4,
 "nbformat_minor": 4
}
