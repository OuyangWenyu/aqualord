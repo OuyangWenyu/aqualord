{
 "cells": [
  {
   "cell_type": "markdown",
   "metadata": {},
   "source": [
    "## Advanced级别session\n",
    "\n",
    "- [Disaster Risk Reduction Across the Americas Discussion Sessions; La Reducción del Riesgo de Desastres en las Américas Sesiones de Discusión](https://arset.gsfc.nasa.gov/disasters/webinars/dpraas-17)"
   ]
  }
 ],
 "metadata": {
  "kernelspec": {
   "display_name": "Python 3",
   "language": "python",
   "name": "python3"
  },
  "language_info": {
   "codemirror_mode": {
    "name": "ipython",
    "version": 3
   },
   "file_extension": ".py",
   "mimetype": "text/x-python",
   "name": "python",
   "nbconvert_exporter": "python",
   "pygments_lexer": "ipython3",
   "version": "3.7.6"
  }
 },
 "nbformat": 4,
 "nbformat_minor": 4
}
