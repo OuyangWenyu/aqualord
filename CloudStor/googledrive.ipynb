{
 "cells": [
  {
   "cell_type": "markdown",
   "metadata": {},
   "source": [
    "# google drive\n",
    "\n",
    "因为尝试了官方文档的方法不成功，所以使用[pyDrive](https://github.com/gsuitedevs/PyDrive)尝试一下。\n",
    "\n",
    "首先安装：\n",
    "\n",
    "```bash\n",
    "pip install PyDrive\n",
    "```\n",
    "\n",
    "然后从Google API Console 下载client_secrets.json 文件，搜索google console，点击进入google cloud console，如果没有google cloud console，那就需要从头开始申请一个，这部分这里就暂不介绍了。选择“API和服务”后，点击“库”，进入库页面，搜索drive，启用该API。\n",
    "\n",
    "然后还选择“API和服务”，然后点击“凭据”进入页面，点击“创建凭据”，选择“OAuth客户端ID”，创建一个“OAuth 2.0 客户端 ID”，中间会让用户开启一个“OAuth同意屏幕”，随便输入一个项目名称开启即可，然后在回到“创建凭据”，创建一个OAuth 2.0 客户端 ID。这时候就有一个OAuth 2.0 客户端 ID条目出现了，点击右边下载按键即可下载client_secrets.json。自己在使用过程中最好生成一个本地凭证，这样不用总是需要远程认证，方法参考了：[Automating pydrive verification process](https://stackoverflow.com/questions/24419188/automating-pydrive-verification-process/24542604#24542604)的高票回答，即通过下面的执行语句，利用gauth.SaveCredentialsFile(\"mycreds.txt\")生成一个本地的credits文件，再后面再使用的话可以通过如下代码实现获取凭证：\n",
    "\n",
    "```python\n",
    "gauth.LoadCredentialsFile(client_secrets_file)\n",
    "```\n",
    "\n",
    "这里就不对这种方法进行实例展示了。继续其他对dirve的操作："
   ]
  },
  {
   "cell_type": "code",
   "execution_count": 14,
   "metadata": {},
   "outputs": [
    {
     "name": "stdout",
     "output_type": "stream",
     "text": [
      "Your browser has been opened to visit:\n",
      "\n",
      "    https://accounts.google.com/o/oauth2/auth?client_id=974421890803-k4ls1nquvh33hlg8g1ttaab5lu1nq5a7.apps.googleusercontent.com&redirect_uri=http%3A%2F%2Flocalhost%3A8080%2F&scope=https%3A%2F%2Fwww.googleapis.com%2Fauth%2Fdrive&access_type=offline&response_type=code\n",
      "\n",
      "Authentication successful.\n"
     ]
    }
   ],
   "source": [
    "from pydrive.auth import GoogleAuth\n",
    "from pydrive.drive import GoogleDrive\n",
    "\n",
    "gauth = GoogleAuth()\n",
    "gauth.LocalWebserverAuth()\n",
    "gauth.SaveCredentialsFile(\"mycreds.txt\")\n",
    "drive = GoogleDrive(gauth)"
   ]
  },
  {
   "cell_type": "markdown",
   "metadata": {},
   "source": [
    "接下来就可以很简单地实现文件的上传和下载了。首先上传一个文件："
   ]
  },
  {
   "cell_type": "code",
   "execution_count": 2,
   "metadata": {},
   "outputs": [],
   "source": [
    "file1 = drive.CreateFile({'title': 'Hello.txt'})\n",
    "file1.SetContentString('Hello')\n",
    "file1.Upload() # Files.insert()"
   ]
  },
  {
   "cell_type": "markdown",
   "metadata": {},
   "source": [
    "然后可以直接修改该文件名称："
   ]
  },
  {
   "cell_type": "code",
   "execution_count": 3,
   "metadata": {},
   "outputs": [],
   "source": [
    "file1['title'] = 'HelloWorld.txt'  # Change title of the file\n",
    "file1.Upload() # Files.patch()"
   ]
  },
  {
   "cell_type": "markdown",
   "metadata": {},
   "source": [
    "接下来可以试试往文件中增加内容。"
   ]
  },
  {
   "cell_type": "code",
   "execution_count": 4,
   "metadata": {},
   "outputs": [],
   "source": [
    "content = file1.GetContentString()  # 'Hello'\n",
    "file1.SetContentString(content+' World!')  # 'Hello World!'\n",
    "file1.Upload() # Files.update()"
   ]
  },
  {
   "cell_type": "markdown",
   "metadata": {},
   "source": [
    "下载文件使用GetContentFile(filename)或者 GetContentString()."
   ]
  },
  {
   "cell_type": "code",
   "execution_count": 5,
   "metadata": {},
   "outputs": [
    {
     "name": "stdout",
     "output_type": "stream",
     "text": [
      "Downloading file HelloWorld.txt from Google Drive\n"
     ]
    },
    {
     "data": {
      "text/plain": [
       "str"
      ]
     },
     "execution_count": 5,
     "metadata": {},
     "output_type": "execute_result"
    }
   ],
   "source": [
    "file2 = drive.CreateFile({'id': file1['id']})\n",
    "print('Downloading file %s from Google Drive' % file2['title'])\n",
    "type(file1['id'])"
   ]
  },
  {
   "cell_type": "markdown",
   "metadata": {},
   "source": [
    "Save Drive file as a local file，参数是本地文件的名称"
   ]
  },
  {
   "cell_type": "code",
   "execution_count": 7,
   "metadata": {},
   "outputs": [],
   "source": [
    "file2.GetContentFile('HelloWorld.txt')  "
   ]
  },
  {
   "cell_type": "markdown",
   "metadata": {},
   "source": [
    "还可以查询指定目录下的文件"
   ]
  },
  {
   "cell_type": "code",
   "execution_count": 8,
   "metadata": {},
   "outputs": [
    {
     "name": "stdout",
     "output_type": "stream",
     "text": [
      "title: HelloWorld.txt, id: 1g4mT39PcEQEs17oVOIIKRRQFLH0G4Vuc\n",
      "title: refactor the codes, id: 1sSuNTbyftvZmXFthxtweBPGBBQH8IEDyABiKg4M6bG8\n",
      "title: WRData, id: 1Ra-uA7lT_HBvPI2afQkYxXxjkWOuRRuQ\n",
      "title: test, id: 1jhJpA9qKSmY0bi3jOvMl9FaGLcKIfN2I\n",
      "1jhJpA9qKSmY0bi3jOvMl9FaGLcKIfN2I\n",
      "title: HelloWorld.txt, id: 1HJOkPe0dlrU_97T6h6QxvNmYGhbihVdP\n",
      "title: foo.txt, id: 1RdQHHeHsHakuyCLzguC7Y36R7DxUIzF0\n",
      "title: daymet, id: 1bFV4R6FW5WUlUoVkLsO25YhUzeeFvHCA\n",
      "title: RS, id: 1G1a9rbPsHnbJ6xhlznKB0U_UrxwXrWw0\n",
      "title: drive, id: 1-4LOn3r-drroBNMYwEA7HBMZNmgW5pM1\n",
      "title: Colab Notebooks, id: 1dtSHtNnHBRAJo5xjBM2CEmwYETU3BovM\n",
      "title: Life, id: 1Oml-Ia5ricBjFNT2yV-m1D9Nhoch0Ohy\n",
      "title: Research, id: 1UTOQVqsqqzbOBGRW7KeLs91GDDS1JT7g\n"
     ]
    }
   ],
   "source": [
    "# Auto-iterate through all files that matches this query\n",
    "file_list1 = drive.ListFile({'q': \"'root' in parents and trashed=false\"}).GetList()\n",
    "for file1 in file_list1:\n",
    "    print('title: %s, id: %s' % (file1['title'], file1['id']))\n",
    "    if file1['title']=='test':\n",
    "        file1_id=str(file1['id'])\n",
    "        #  列出某个文件夹下的文件        \n",
    "        print(file1_id)\n",
    "        file_list = drive.ListFile({'q': \"'\"+file1_id+\"' in parents and trashed=false\"}).GetList()\n",
    "        for file in file_list:\n",
    "            print('title: %s, id: %s' % (file['title'], file['id']))"
   ]
  },
  {
   "cell_type": "markdown",
   "metadata": {},
   "source": [
    "从上可知，下载一个文件需要指定其id。如何查看某个文件夹下的id呢？，需要在ListFIle函数中使用某个文件夹的id，这样可以如下列出文件夹下的文件。"
   ]
  },
  {
   "cell_type": "code",
   "execution_count": 9,
   "metadata": {},
   "outputs": [
    {
     "name": "stdout",
     "output_type": "stream",
     "text": [
      "title: HelloWorld.txt, id: 1HJOkPe0dlrU_97T6h6QxvNmYGhbihVdP\n",
      "title: foo.txt, id: 1RdQHHeHsHakuyCLzguC7Y36R7DxUIzF0\n"
     ]
    }
   ],
   "source": [
    "# Auto-iterate through all files that matches this query\n",
    "file_list = drive.ListFile({'q': \"'1jhJpA9qKSmY0bi3jOvMl9FaGLcKIfN2I' in parents and trashed=false\"}).GetList()\n",
    "for file in file_list:\n",
    "    print('title: %s, id: %s' % (file['title'], file['id']))"
   ]
  },
  {
   "cell_type": "markdown",
   "metadata": {},
   "source": [
    "现在指定下载一个文件"
   ]
  },
  {
   "cell_type": "code",
   "execution_count": 10,
   "metadata": {},
   "outputs": [
    {
     "name": "stdout",
     "output_type": "stream",
     "text": [
      "Downloading file HelloWorld.txt from Google Drive\n"
     ]
    }
   ],
   "source": [
    "file3 = drive.CreateFile({'id': '1HJOkPe0dlrU_97T6h6QxvNmYGhbihVdP'})\n",
    "print('Downloading file %s from Google Drive' % file3['title'])\n",
    "file3.GetContentFile(file3['title'])  "
   ]
  },
  {
   "cell_type": "markdown",
   "metadata": {},
   "source": [
    "批量下载文件可使用下列代码："
   ]
  },
  {
   "cell_type": "code",
   "execution_count": 12,
   "metadata": {},
   "outputs": [
    {
     "name": "stdout",
     "output_type": "stream",
     "text": [
      "title: HelloWorld.txt, id: 1HJOkPe0dlrU_97T6h6QxvNmYGhbihVdP\n",
      "Downloading file HelloWorld.txt from Google Drive\n",
      "title: foo.txt, id: 1RdQHHeHsHakuyCLzguC7Y36R7DxUIzF0\n",
      "Downloading file foo.txt from Google Drive\n",
      "Downloading file finished\n"
     ]
    }
   ],
   "source": [
    "# Auto-iterate through all files that matches this query\n",
    "import os\n",
    "file_list = drive.ListFile({'q': \"'1jhJpA9qKSmY0bi3jOvMl9FaGLcKIfN2I' in parents and trashed=false\"}).GetList()\n",
    "for file in file_list:\n",
    "    print('title: %s, id: %s' % (file['title'], file['id']))\n",
    "    file_dl= drive.CreateFile({'id':file['id']})\n",
    "    print('Downloading file %s from Google Drive' % file_dl['title'])\n",
    "    # 下载到指定文件夹    \n",
    "    directory=\"./test\"\n",
    "    file_dl.GetContentFile(os.path.join(directory,file_dl['title']))  \n",
    "print('Downloading file finished')"
   ]
  },
  {
   "cell_type": "markdown",
   "metadata": {},
   "source": [
    "以上就是简单利用PyDrive进行文件下载的方式。"
   ]
  }
 ],
 "metadata": {
  "kernelspec": {
   "display_name": "Python 3",
   "language": "python",
   "name": "python3"
  },
  "language_info": {
   "codemirror_mode": {
    "name": "ipython",
    "version": 3
   },
   "file_extension": ".py",
   "mimetype": "text/x-python",
   "name": "python",
   "nbconvert_exporter": "python",
   "pygments_lexer": "ipython3",
   "version": "3.7.6"
  }
 },
 "nbformat": 4,
 "nbformat_minor": 4
}
