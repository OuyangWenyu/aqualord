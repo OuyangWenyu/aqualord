{
 "cells": [
  {
   "cell_type": "markdown",
   "metadata": {},
   "source": [
    "# google drive\n",
    "\n",
    "因为尝试了google官方文档的从Google drive下载文件的方法不成功，所以这里使用[pyDrive](https://github.com/gsuitedevs/PyDrive)尝试一下。\n",
    "\n",
    "先简单补充下OAuth 2.0 协议的内容，参考了：[理解OAuth 2.0](https://www.ruanyifeng.com/blog/2014/05/oauth_2_0.html),[10 分钟理解什么是 OAuth 2.0 协议](https://deepzz.com/post/what-is-oauth2-protocol.html)。OAuth 2.0 协议目的是为第三方应用颁发一个有时效性的令牌 token。使得第三方应用能够通过该令牌获取相关的资源。常见的场景就是：第三方登录。\n",
    "\n",
    "举例说明：有一个\"云冲印\"的网站，可以将用户储存在Google的照片，冲印出来。用户为了使用该服务，必须让\"云冲印\"读取自己储存在Google上的照片。\n",
    "\n",
    "问题是只有得到用户的授权，Google才会同意\"云冲印\"读取这些照片。那么，\"云冲印\"怎样获得用户的授权呢？\n",
    "\n",
    "传统方法是，用户将自己的Google用户名和密码，告诉\"云冲印\"，后者就可以读取用户的照片了。这样的做法有诸如“\"云冲印\"为了后续的服务，会保存用户的密码，这样很不安全”等缺点。OAuth就是为了解决这些问题而诞生的。\n",
    "\n",
    "整个授权协议的流程都将围绕着这些角色：\n",
    "\n",
    "（1） Third-party application：第三方应用程序，本文中又称\"客户端\"（client），即上一节例子中的\"云冲印\"。\n",
    "\n",
    "（2）HTTP service：HTTP服务提供商，本文中简称\"服务提供商\"，即上一节例子中的Google。\n",
    "\n",
    "（3）Resource Owner：资源所有者，本文中又称\"用户\"（user）。\n",
    "\n",
    "（4）User Agent：用户代理，本文中就是指浏览器。\n",
    "\n",
    "（5）Authorization server：认证服务器，即服务提供商专门用来处理认证的服务器。\n",
    "\n",
    "（6）Resource server：资源服务器，即服务提供商存放用户生成的资源的服务器。它与认证服务器，可以是同一台服务器，也可以是不同的服务器。\n",
    "\n",
    "OAuth的作用就是让\"客户端\"安全可控地获取\"用户\"的授权，与\"服务商提供商\"进行互动。\n",
    "\n",
    "OAuth的思路是在\"客户端\"与\"服务提供商\"之间，设置一个授权层（authorization layer）。\"客户端\"不能直接登录\"服务提供商\"，只能登录授权层，以此将用户与客户端区分开来。\"客户端\"登录授权层所用的令牌（token），与用户的密码不同。用户可以在登录的时候，指定授权层令牌的权限范围和有效期。\n",
    "\n",
    "\"客户端\"登录授权层以后，\"服务提供商\"根据令牌的权限范围和有效期，向\"客户端\"开放用户储存的资料。OAuth 2.0的运行流程如下图。\n",
    "\n",
    "![](TIM截图20200728073151.png)\n",
    "\n",
    "（A）用户打开客户端以后，客户端要求用户给予授权。\n",
    "\n",
    "（B）用户同意给予客户端授权。\n",
    "\n",
    "（C）客户端使用上一步获得的授权，向认证服务器申请令牌。\n",
    "\n",
    "（D）认证服务器对客户端进行认证以后，确认无误，同意发放令牌。\n",
    "\n",
    "（E）客户端使用令牌，向资源服务器申请获取资源。\n",
    "\n",
    "（F）资源服务器确认令牌无误，同意向客户端开放资源。\n",
    "\n",
    "步骤B，用户怎样才能给于客户端授权是比较关键的，授权方式有多种，google drive用的是授权码模式。授权码模式（authorization code）是功能最完整、流程最严密的授权模式。它的特点就是通过客户端的后台服务器，与\"服务提供商\"的认证服务器进行互动。\n",
    "\n",
    "![](TIM截图20200728073542.png)\n",
    "\n",
    "它的步骤如下：\n",
    "\n",
    "（A）用户访问客户端，后者将前者导向认证服务器。\n",
    "\n",
    "（B）用户选择是否给予客户端授权。\n",
    "\n",
    "（C）假设用户给予授权，认证服务器将用户导向客户端事先指定的\"重定向URI\"（redirection URI），同时附上一个授权码。\n",
    "\n",
    "（D）客户端收到授权码，附上早先的\"重定向URI\"，向认证服务器申请令牌。这一步是在客户端的后台的服务器上完成的，对用户不可见。\n",
    "\n",
    "（E）认证服务器核对了授权码和重定向URI，确认无误后，向客户端发送访问令牌（access token）和更新令牌（refresh token）。\n",
    "\n",
    "在访问google drive过程中，首先要使用OAuth 2.0来获取Google APIs，可以参考：[Using OAuth 2.0 to Access Google APIs](https://developers.google.com/identity/protocols/oauth2)，可以试试：[OAuth 2.0 Playground](https://developers.google.com/oauthplayground/)。这里我们直接使用pydrive来帮助访问，所以直接参考：[PyDrive Quickstart](https://pythonhosted.org/PyDrive/quickstart.html)\n",
    "\n",
    "浏览器进入google cloud console，如果没有google cloud console，那就需要从头开始申请一个：[Google Cloud](https://cloud.google.com/?hl=zh-cn)。有账号之后，进入控制台，然后选择“API和服务”，点击“库”，进入库页面，搜索drive，启用该API，如果还没有创建过项目，那么需要先创建一个项目，这样才能够启用API。\n",
    "\n",
    "选择“API和服务”，点击“凭据”进入页面，点击“创建凭据”，选择“OAuth客户端ID”，创建一个“OAuth 2.0 客户端 ID”，中间会让用户开启一个“OAuth同意屏幕”，会让选择“外部”还是“内部”用户，我的账号“内部”选择不了，所以就选择外部了，随便输入一个项目名称即可，然后在“Google API 的范围”里面需要把google drive添加进去：https://www.googleapis.com/auth/drive， 然后开启即可。\n",
    "\n",
    "然后回到“创建凭据”，选择“web应用”，随便命名即可，然后在 \"已获授权的 JavaScript 来源\" URI里添加： http://localhost:8080  ，在“”添加：http://localhost:8080/ ，注意最后一个/不能少，否则会查很久都不知道错哪，点击创建，即可得到一个OAuth 2.0 客户端 ID。这时候就有一个OAuth 2.0 客户端 ID条目出现了，点击右边下载按键即可下载文件，然后重命名为 client_secrets.json。\n",
    "\n",
    "将该文件放到目前的目录下，就可以使用pydrive代码了。第一次使用LocalWebserverAuth()函数时，浏览器会提示自己有风险，为了使用drive API 需要暂时忽略该风险，因此在弹出的页面里，选择“高级选项”，同意项目访问drive即可。\n",
    "\n",
    "可以生成一个本地凭证，这样不用总是需要远程认证，方法参考了：[Automating pydrive verification process](https://stackoverflow.com/questions/24419188/automating-pydrive-verification-process/24542604#24542604)的高票回答，即通过下面的执行语句，利用gauth.SaveCredentialsFile(\"mycreds.txt\")生成一个本地的credits文件："
   ]
  },
  {
   "cell_type": "code",
   "execution_count": 1,
   "metadata": {},
   "outputs": [
    {
     "name": "stdout",
     "output_type": "stream",
     "text": [
      "Your browser has been opened to visit:\n",
      "\n",
      "    https://accounts.google.com/o/oauth2/auth?client_id=893841030002-hsmvq01daf8kk45diqjth149bq120pk3.apps.googleusercontent.com&redirect_uri=http%3A%2F%2Flocalhost%3A8080%2F&scope=https%3A%2F%2Fwww.googleapis.com%2Fauth%2Fdrive&access_type=offline&response_type=code\n",
      "\n",
      "Authentication successful.\n"
     ]
    }
   ],
   "source": [
    "from pydrive.auth import GoogleAuth\n",
    "from pydrive.drive import GoogleDrive\n",
    "\n",
    "gauth = GoogleAuth()\n",
    "gauth.LocalWebserverAuth()\n",
    "gauth.SaveCredentialsFile(\"mycreds.txt\")\n",
    "drive = GoogleDrive(gauth)"
   ]
  },
  {
   "cell_type": "markdown",
   "metadata": {},
   "source": [
    "接下来就可以很简单地实现文件的上传和下载了。首先上传一个文件："
   ]
  },
  {
   "cell_type": "code",
   "execution_count": 2,
   "metadata": {},
   "outputs": [],
   "source": [
    "file1 = drive.CreateFile({'title': 'Hello.txt'})\n",
    "file1.SetContentString('Hello')\n",
    "file1.Upload() # Files.insert()"
   ]
  },
  {
   "cell_type": "markdown",
   "metadata": {},
   "source": [
    "然后可以直接修改该文件名称："
   ]
  },
  {
   "cell_type": "code",
   "execution_count": 3,
   "metadata": {},
   "outputs": [],
   "source": [
    "file1['title'] = 'HelloWorld.txt'  # Change title of the file\n",
    "file1.Upload() # Files.patch()"
   ]
  },
  {
   "cell_type": "markdown",
   "metadata": {},
   "source": [
    "接下来可以试试往文件中增加内容。"
   ]
  },
  {
   "cell_type": "code",
   "execution_count": 4,
   "metadata": {},
   "outputs": [],
   "source": [
    "content = file1.GetContentString()  # 'Hello'\n",
    "file1.SetContentString(content+' World!')  # 'Hello World!'\n",
    "file1.Upload() # Files.update()"
   ]
  },
  {
   "cell_type": "markdown",
   "metadata": {},
   "source": [
    "下载文件使用GetContentFile(filename)或者 GetContentString()."
   ]
  },
  {
   "cell_type": "code",
   "execution_count": 5,
   "metadata": {},
   "outputs": [
    {
     "name": "stdout",
     "output_type": "stream",
     "text": [
      "Downloading file HelloWorld.txt from Google Drive\n"
     ]
    },
    {
     "data": {
      "text/plain": [
       "str"
      ]
     },
     "execution_count": 5,
     "metadata": {},
     "output_type": "execute_result"
    }
   ],
   "source": [
    "file2 = drive.CreateFile({'id': file1['id']})\n",
    "print('Downloading file %s from Google Drive' % file2['title'])\n",
    "type(file1['id'])"
   ]
  },
  {
   "cell_type": "markdown",
   "metadata": {},
   "source": [
    "Save Drive file as a local file，参数是本地文件的名称"
   ]
  },
  {
   "cell_type": "code",
   "execution_count": 6,
   "metadata": {},
   "outputs": [],
   "source": [
    "file2.GetContentFile('HelloWorld.txt')  "
   ]
  },
  {
   "cell_type": "markdown",
   "metadata": {},
   "source": [
    "还可以查询指定目录下的文件"
   ]
  },
  {
   "cell_type": "code",
   "execution_count": 7,
   "metadata": {},
   "outputs": [
    {
     "name": "stdout",
     "output_type": "stream",
     "text": [
      "title: HelloWorld.txt, id: 1K__N1Pfkhiei55QVn7q4np7dP3c40gSU\n",
      "title: HelloWorld.txt, id: 1gOWfQgIlFVzsXX67baOHg_wwAgV2Fplc\n",
      "title: new results of dam operations on streamflow prediction, id: 1LWDWCqalGhYcOMuONrOgeBGr1J3sJwws0lSXOhLb6-E\n",
      "title: hydro-dl-reservoir-data, id: 1MA5HKTa2e6ZCWIoTQkLMBmREpz6QjVDH\n",
      "title: 水库, id: 105Zm9NsdCLtIG-1WBDQUlD7Qo0LnPcD1e8YVhuBpYn8\n",
      "title: 20200607_literature_review, id: 1ACBg0En2QkHmZcowr6VrSvxeuUyx1MKEsExgZhczWHA\n",
      "title: 论文I, id: 1HFE4iEuS9YObdZNNED4CMvZ04BOdBYklxuk_x9H96Eo\n",
      "title: 论文细节补充, id: 1m87gQBD2AWYSavx_ls6DUiDfWxkWw4pGooyBwvWxQC4\n",
      "title: 删除内容存个档, id: 1LMFSk710nnC9YL165sTnlV97PTqfj16G084J13HVqdY\n",
      "title: WenyuOuyang20200720, id: 18ntCYWgKQqBiSzdNSb0jiaJ4Hvh40ifuLns036LlVCk\n",
      "title: new results of dam operations on streamflow prediction（shen改前）, id: 1qOeWRc8zcxSSAFrE9wcb8RRBXNXjg6H5conntpXs9hA\n",
      "title: NLDAS, id: 1Fa2yzyfQEdzHkbw5D_QKjZbmSmrRiwFl\n",
      "title: new results of dam operations on streamflow prediction（副本）, id: 1mxhqGSNsSHeks7lTvAQdotSQiRtE4Pg49o_CD8Qauec\n",
      "title: 日常交流2020, id: 1032S2nkvc6OV3OaDmP8_IBX-ZUnypkNmPmmpOsKGxcw\n",
      "title: basin_mean_forcing.zip, id: 1tY2FEckWUeS7LKfGFhrZ03X3aXMk4V07\n",
      "title: gages_streamflow.zip, id: 1Yh1rIx4bZqDbILZHKGTn1eW_UU1gF31E\n",
      "title: 2020/06/20 汇报, id: 1F2iAajViXOtDM_8Sf5uAvlGbOtVHAnznAv8Wu0hoQzg\n",
      "title: 2020/05/27 Continental-scale streamflow modeling of basins including those with major reservoirs: a first benchmark, id: 1RyjVWMqsFdTwhuMca1snM114tfCsQlv6LHEatSNynHA\n",
      "title: forcing_data_farshid.zip, id: 1xUTA7riW-jsF2GDDtw5925BzvPy9or10\n",
      "title: 科学项目, id: 1sU_jqsfr6eBMZCvdqUdMPhG2l5bM8TUXbi2c1N3NhWU\n",
      "title: 状态报告, id: 1AIUGUjlOrB4y1MvRMT2WPiyYiiumZmLnMet8U2ygDrs\n",
      "title: 案例研究, id: 1JAOJBmBh2UePGi7k90AEjZmp8G4TWY_kGb_7GHP9hhY\n",
      "title: 2020/05/19 update results of dam operation on streamflow prediction, id: 1pOiprnHtdNpbty4HMFNsBex_mnIwrXxGenET7HW78BE\n",
      "title: forcing_data_dapeng_v1.zip, id: 1nSi6AgMcTOCyAbbvcJxasFyvzPeV5e95\n",
      "title: 2020/05/16 大陆尺度受主要水库影响流域径流预测, id: 1sSuNTbyftvZmXFthxtweBPGBBQH8IEDyABiKg4M6bG8\n",
      "title: HUC10_Susquehanna.shx, id: 1wG2zXSjeD_IkNA80rV2LcPB3XDH3kJv-\n",
      "title: HUC10_Susquehanna.cpg, id: 1DB5w-xx3uP5CXqGuALXBiv3J_uiCWtk_\n",
      "title: HUC10_Susquehanna.dbf, id: 1D4fJtetDKpOwyZ7SWaqhD5BPAnEpRCLe\n",
      "title: HUC10_Susquehanna.shp, id: 1aDVuyi7fEZGT17v0hQEBrdEcx05vNzKJ\n",
      "title: HUC10_Susquehanna.fix, id: 1T9JhfsyKkW6rWDtq6-dj82LGgLrXv3FQ\n",
      "title: HUC10_Susquehanna.prj, id: 1osG9R5v5yKjGenYYzMwvdKjKF7vUFF4q\n",
      "title: HUC8_Susquehanna.shx, id: 19ln_SOHfij4EQaLjQEfQIeYW5FUiTB21\n",
      "title: HUC8_Susquehanna.cpg, id: 12p-9aClUajwh64_mJ9lBMRSSR6R4tldM\n",
      "title: HUC8_Susquehanna.fix, id: 138kEHYQx8EcLdEjGgBPQVOkEq6STB1ju\n",
      "title: HUC8_Susquehanna.shp, id: 1rtIgIPkSAdeiddvS-XtfJT26-hGSvlRA\n",
      "title: HUC8_Susquehanna.prj, id: 1_HCqXT9mfg2oOkgtHe04HBtYh-5MlGS7\n",
      "title: HUC8_Susquehanna.dbf, id: 1BpdY0pwWjo9JgngMEl325V8lBauhKZX-\n",
      "title: forcing_data_dapeng_v2.zip, id: 1A9urvwgPfNtOJvXEedkY0HtHkvpv1if1\n",
      "title: forcing_data_farshid.zip, id: 1KA4cGoMlAQiP0Hia46upngdAeZIz2JAm\n",
      "title: forcing_data_ashu.zip, id: 1S-a22I03WoDHRgWncoMIjJvUKFC2TkUC\n",
      "title: IMG_20200417_154713.jpg, id: 1eTb1Exy-UrTKlST134y5yu8PXSypCM-5\n",
      "title: STUDY AND RESEARCH REPORT BY CHINESE STUDENTS AND SCHOLARS- WenyuOuyang, id: 13BODzx6-3ifhxNq-kseMFpffGHd85Ubo6n-81vmsyeU\n",
      "title: 思路, id: 1WVOvmrPQeCjjm6TnXu2KBstjLemLW3ibGkQ8sZQ124s\n",
      "title: repo struc, id: 1Jh55h9Dvixan9lFhyMqfVRkcb5p6uKT1k2r_XbNmKwY\n",
      "title: HelloWorld.txt, id: 1g4mT39PcEQEs17oVOIIKRRQFLH0G4Vuc\n",
      "title: WRData, id: 1Ra-uA7lT_HBvPI2afQkYxXxjkWOuRRuQ\n",
      "title: test, id: 1jhJpA9qKSmY0bi3jOvMl9FaGLcKIfN2I\n",
      "1jhJpA9qKSmY0bi3jOvMl9FaGLcKIfN2I\n",
      "title: test2, id: 1Z6ZIdiNsv6P4rieV7jr0qtZs1PPQzh9m\n",
      "title: test1, id: 1ySJv_xG0jeOSkTxgyKr56QIKzAWbKbYM\n",
      "title: HelloWorld.txt, id: 1HJOkPe0dlrU_97T6h6QxvNmYGhbihVdP\n",
      "title: foo.txt, id: 1RdQHHeHsHakuyCLzguC7Y36R7DxUIzF0\n",
      "title: daymet, id: 1bFV4R6FW5WUlUoVkLsO25YhUzeeFvHCA\n",
      "title: RS, id: 1G1a9rbPsHnbJ6xhlznKB0U_UrxwXrWw0\n",
      "title: drive, id: 1-4LOn3r-drroBNMYwEA7HBMZNmgW5pM1\n",
      "title: Colab Notebooks, id: 1dtSHtNnHBRAJo5xjBM2CEmwYETU3BovM\n",
      "title: Life, id: 1Oml-Ia5ricBjFNT2yV-m1D9Nhoch0Ohy\n",
      "title: Research, id: 1UTOQVqsqqzbOBGRW7KeLs91GDDS1JT7g\n"
     ]
    }
   ],
   "source": [
    "# Auto-iterate through all files that matches this query\n",
    "file_list1 = drive.ListFile({'q': \"'root' in parents and trashed=false\"}).GetList()\n",
    "for file1 in file_list1:\n",
    "    print('title: %s, id: %s' % (file1['title'], file1['id']))\n",
    "    if file1['title']=='test':\n",
    "        file1_id=str(file1['id'])\n",
    "        #  列出某个文件夹下的文件        \n",
    "        print(file1_id)\n",
    "        file_list = drive.ListFile({'q': \"'\"+file1_id+\"' in parents and trashed=false\"}).GetList()\n",
    "        for file in file_list:\n",
    "            print('title: %s, id: %s' % (file['title'], file['id']))"
   ]
  },
  {
   "cell_type": "markdown",
   "metadata": {},
   "source": [
    "从上可知，下载一个文件需要指定其id。如何查看某个文件夹下的id呢？，需要在ListFIle函数中使用某个文件夹的id，这样可以如下列出文件夹下的文件。"
   ]
  },
  {
   "cell_type": "code",
   "execution_count": 9,
   "metadata": {},
   "outputs": [
    {
     "name": "stdout",
     "output_type": "stream",
     "text": [
      "title: test2, id: 1Z6ZIdiNsv6P4rieV7jr0qtZs1PPQzh9m\n",
      "title: test1, id: 1ySJv_xG0jeOSkTxgyKr56QIKzAWbKbYM\n",
      "title: HelloWorld.txt, id: 1HJOkPe0dlrU_97T6h6QxvNmYGhbihVdP\n",
      "title: foo.txt, id: 1RdQHHeHsHakuyCLzguC7Y36R7DxUIzF0\n"
     ]
    }
   ],
   "source": [
    "# Auto-iterate through all files that matches this query\n",
    "file_list = drive.ListFile({'q': \"'1jhJpA9qKSmY0bi3jOvMl9FaGLcKIfN2I' in parents and trashed=false\"}).GetList()\n",
    "for file in file_list:\n",
    "    print('title: %s, id: %s' % (file['title'], file['id']))"
   ]
  },
  {
   "cell_type": "markdown",
   "metadata": {},
   "source": [
    "现在指定下载一个文件"
   ]
  },
  {
   "cell_type": "code",
   "execution_count": 10,
   "metadata": {},
   "outputs": [
    {
     "name": "stdout",
     "output_type": "stream",
     "text": [
      "Downloading file HelloWorld.txt from Google Drive\n"
     ]
    }
   ],
   "source": [
    "file3 = drive.CreateFile({'id': '1HJOkPe0dlrU_97T6h6QxvNmYGhbihVdP'})\n",
    "print('Downloading file %s from Google Drive' % file3['title'])\n",
    "file3.GetContentFile(file3['title'])  "
   ]
  },
  {
   "cell_type": "markdown",
   "metadata": {},
   "source": [
    "批量下载文件可使用下列代码（如果文件夹下还有文件夹，需要判断递归下载）："
   ]
  },
  {
   "cell_type": "code",
   "execution_count": 17,
   "metadata": {},
   "outputs": [
    {
     "name": "stdout",
     "output_type": "stream",
     "text": [
      "title: HelloWorld.zip, id: 16nDQoB5_Q4PsL4zWsf1ikMl8Xz3BBidc\n",
      "mimetype is application/x-zip-compressed\n",
      "file has been downloaded\n",
      "title: test2, id: 1Z6ZIdiNsv6P4rieV7jr0qtZs1PPQzh9m\n",
      "mimetype is application/vnd.google-apps.folder\n",
      "title: HelloWorld.txt（副本）, id: 1cu-fVb6VsHwYwjwP8P7oUWg1esZAfCRQ\n",
      "mimetype is text/plain\n",
      "file has been downloaded\n",
      "title: test1, id: 1ySJv_xG0jeOSkTxgyKr56QIKzAWbKbYM\n",
      "mimetype is application/vnd.google-apps.folder\n",
      "title: metadata_overview_GAGESII_historical_data_update.xml, id: 16N1g0p5_0pER72o1e3gnUsay2MqOTVfe\n",
      "mimetype is text/xml\n",
      "Downloading file finished\n",
      "title: foo.txt（副本）, id: 1cBLKEkRlZ4N16YvvZZx6KeuOzEcFbBBd\n",
      "mimetype is text/plain\n",
      "file has been downloaded\n",
      "title: HelloWorld.txt, id: 1HJOkPe0dlrU_97T6h6QxvNmYGhbihVdP\n",
      "mimetype is text/plain\n",
      "file has been downloaded\n",
      "title: foo.txt, id: 1RdQHHeHsHakuyCLzguC7Y36R7DxUIzF0\n",
      "mimetype is text/plain\n",
      "file has been downloaded\n"
     ]
    }
   ],
   "source": [
    "# Auto-iterate through all files that matches this query\n",
    "import os\n",
    "\n",
    "def download_google_drive(dir_id, download_dir):\n",
    "    file_list = drive.ListFile({'q': \"'\" + dir_id + \"' in parents and trashed=false\"}).GetList()\n",
    "    for file in file_list:\n",
    "        print('title: %s, id: %s' % (file['title'], file['id']))\n",
    "        file_dl= drive.CreateFile({'id':file['id']})\n",
    "        print('mimetype is %s' % file_dl['mimeType'])\n",
    "        if file_dl['mimeType'] == 'application/vnd.google-apps.folder':\n",
    "            download_dir_sub = os.path.join(download_dir, file_dl['title'])\n",
    "            if not os.path.isdir(download_dir_sub):\n",
    "                os.makedirs(download_dir_sub)\n",
    "            download_google_drive(file_dl['id'], download_dir_sub)\n",
    "        else:\n",
    "            temp_file = os.path.join(download_dir, file_dl['title'])\n",
    "            if os.path.isfile(temp_file):\n",
    "                print('file has been downloaded')\n",
    "                continue\n",
    "            # 下载到指定文件夹    \n",
    "            file_dl.GetContentFile(os.path.join(download_dir,file_dl['title']))  \n",
    "            print('Downloading file finished')\n",
    "            \n",
    "dir_id = \"1jhJpA9qKSmY0bi3jOvMl9FaGLcKIfN2I\"\n",
    "download_dir = \"./test\"\n",
    "if not os.path.isdir(download_dir):\n",
    "    os.mkdir(download_dir)\n",
    "download_google_drive(dir_id, download_dir)"
   ]
  }
 ],
 "metadata": {
  "kernelspec": {
   "display_name": "Python 3",
   "language": "python",
   "name": "python3"
  },
  "language_info": {
   "codemirror_mode": {
    "name": "ipython",
    "version": 3
   },
   "file_extension": ".py",
   "mimetype": "text/x-python",
   "name": "python",
   "nbconvert_exporter": "python",
   "pygments_lexer": "ipython3",
   "version": "3.7.6"
  }
 },
 "nbformat": 4,
 "nbformat_minor": 4
}
