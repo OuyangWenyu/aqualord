{
 "cells": [
  {
   "cell_type": "markdown",
   "metadata": {},
   "source": [
    "# HDF5\n",
    "\n",
    "HDF：层次数据格式HDF 组是由美国国家超级计算应用中心 (NCSA) 设计用于存储科学数据的格式。HDF 栅格类型可用于将 HDF4 和 HDF5 中存储的栅格数据添加到镶嵌数据集中。HDF 文件中存储的非栅格数据将会被 HDF 栅格类型忽略。\n",
    "\n",
    "HDF5是HDF4的改进版，具有可自述、可移植、可扩展性，此外还有通用性和灵活性。一个HDF5文件可以被看作是一个组（类Unix的文件系统层次结构）包含了各类不同的数据集，数据集可以是图像、表格，甚至是PDF文件和Excel.\n",
    "\n",
    "一个HDF5文件就是一个由**两种基本数据对象（groups and datasets）** 存放多种科学数据的容器。\n",
    "\n",
    "**HDF5 group**:\n",
    "\n",
    "包含0个或多个HDF5对象以及支持元数据（metadata）的一个群组结构. 可以将这个组结构类似于Linux文件系统的目录层次结构，根目录再包含其他目录，节点目录里面存放相应的数据集，或者可以将组结构当做Python里面的嵌套字典结构，通过这样一个层次化的结构可以合理地将数据组织起来.\n",
    "\n",
    "比如可以有如下代码："
   ]
  },
  {
   "cell_type": "code",
   "execution_count": 1,
   "metadata": {},
   "outputs": [
    {
     "data": {
      "text/plain": [
       "<HDF5 file \"NEONDSTowerTemperatureData.hdf5\" (mode r)>"
      ]
     },
     "execution_count": 1,
     "metadata": {},
     "output_type": "execute_result"
    }
   ],
   "source": [
    "import h5py\n",
    "f = h5py.File(\"data/NEONDSTowerTemperatureData.hdf5\")\n",
    "f"
   ]
  },
  {
   "cell_type": "markdown",
   "metadata": {},
   "source": [
    "**HDF5 dataset**:\n",
    "\n",
    "数据元素的一个多维数组以及支持元数据（metadata）。用于描述的元数据包括，Dataspaces、Datatypes、Properties和Attributes（可选）.。\n",
    "\n",
    "数据空间主要用于描述数据的分布情况，可以分类为无数据（NULL）、标量数据（scala）和数组，其中描述的维数（dimensions）可以是固定的，也可以是非固定的.数据空间描述的主要用途是，用于描述整个数据集的分布情况（这个应该是固定的描述），同时也用于当HDF5切片时，描述其切片的子集分布。\n",
    "\n",
    "数据类型用于描述HDF5数据集中单个数据元素的类型。\n",
    "\n",
    "特性元数据用于描述HDF5对象的特点，默认的特性描述可以通过使用 HDF5 Property List API进行修改.\n",
    "\n",
    "属性是可选的元数据，由用户人工指定，包含名称-值两个部分，注意不支持partial I/O operations，同时不能被压缩或扩展.\n",
    "\n",
    "对于HDF5文件，Python里面有两个包都支持HDF5的开发，h5py和PyTables。"
   ]
  }
 ],
 "metadata": {
  "kernelspec": {
   "display_name": "Python 3",
   "language": "python",
   "name": "python3"
  },
  "language_info": {
   "codemirror_mode": {
    "name": "ipython",
    "version": 3
   },
   "file_extension": ".py",
   "mimetype": "text/x-python",
   "name": "python",
   "nbconvert_exporter": "python",
   "pygments_lexer": "ipython3",
   "version": "3.7.9"
  }
 },
 "nbformat": 4,
 "nbformat_minor": 4
}
