{
 "cells": [
  {
   "cell_type": "markdown",
   "metadata": {},
   "source": [
    "# netcdf-python 介绍\n",
    "\n",
    "nc格式数据是水文模型应用中常见的一种格式，很多软件比如WRF、VIC等都会用到，至于为什么经常用，可以参考官方[用户手册](https://www.unidata.ucar.edu/software/netcdf/docs/index.html)。python是水文水资源领域常用的编程语言，因此这里介绍netcdf4-python，它是netcdf C库的python接口。\n",
    "\n",
    "## netcdf数据格式\n",
    "\n",
    "首先了解一下netcdf是种什么类型的数据格式。\n",
    "\n",
    "NetCDF（网络公用数据格式）是一种用来存储温度、湿度、气压、风速和风向等 **多维科学数据（变量)** 的文件格式，是一种设计用于支持科学数据的创建、访问和共享的文件格式，这种文件格式在大气和海洋研究领域中广泛用于存储变量。\n",
    "\n",
    "NetCDF 数据的特性包括：\n",
    "\n",
    "- 自描述性，即 netCDF 文件**包括关于其中所含数据的信息**，如捕获数据元素的时间以及使用的测量单位。\n",
    "- 可移植性，或称**跨平台性**，即在一种操作系统上创建的 netCDF 文件通常可被其他操作系统上的软件读取。\n",
    "- 可扩展性，即**可有效地读取一个大 netCDF 文件的一个小子集**，而无需读取整个文件。\n",
    "\n",
    "### netcdf基本词汇\n",
    "\n",
    "对netcdf的一些特点进行说明：\n",
    "\n",
    "- 尺寸：NetCDF 维度包含**名称和大小**。维度大小是一个任意的正整数。每个 NetCDF 文件中**只有一个维度的大小是“无限制”的**。这类维度是无限维度或记录维度。无限维度的变量可以沿着该维度增加到任意长度。维度可以用来**表示实际物理维度**，例如时间、经度、纬度或高度。维度还可以用来**为其他量建立索引**，例如，站点或模型的运行数。指定变量的 shape 时，可以多次使用同一个维度。\n",
    "- 变量：变量代表**相同类型的值数组**。变量用来**存储 NetCDF 文件中的大部分数据**。变量具有**名称**、**数据类型**以及在创建该变量时指定的维度列表所描述的 **shape**。维度数称为秩（或维数）。标量变量的秩为 0，矢量的秩为 1，矩阵的秩为 2。变量还可以具有能够在变量创建后进行添加、删除或更改的相关属性。\n",
    "- 坐标变量：**与维度同名**的一维变量称为坐标变量。坐标变量与一个或多个数据变量的维度相关，通常用来定义与该维度相对应的物理坐标。\n",
    "- 属性：NetCDF 的属性用于存储**辅助数据或元数据**。大部分属性提供有关特定变量的信息。这些属性由变量名称与属性名称共同标识。有些属性提供有关整个 NetCDF 文件的信息，因而称为全局属性。\n",
    "- 约定：约定用来定义为每个变量中的数据提供确切描述的**元数据及其空间和时态属性**。约定有助于使用不同数据源的用户确定哪些量具有可比性。约定名称在 NetCDF 文件中以**全局属性的形式表示**。\n",
    "\n",
    "以nasa earthdata的daymet数据为例对上述词汇做些举例说明，这里是用的daymet_v3_prcp_2017_na.nc4数据文件。根据上述定义，如下文本所示，\n",
    "尺寸也即Dimensions，有四个维度，x,y,time,nv，其中time是无限制维度，维度中包括size值；\n",
    "变量Variables中，x,y,time等是坐标变量，坐标变量和所有其他变量一样都有size, dimensions, datatype和Attributes. \n",
    "属性有全局属性也即Global Attributes，也有变量内部的Attributes说明，约定也是全局属性的话，那就也是Global Attributes了。\n",
    "\n",
    "最好把下面这个形式记住，因为这是netcdf文件读取的必要基础。其实最核心的就是变量是存储数据的载体，而变量的维度是由坐标变量解释的，坐标一般都是时空多维，因此数据一般都是时空多维数据。\n",
    "\n",
    "Source:\n",
    "           xxx\\daymet_v3_prcp_2017_na.nc4\n",
    "           \n",
    "Format:\n",
    "           netcdf4_classic\n",
    "           \n",
    "Global Attributes:\n",
    "           start_year       = 2017\n",
    "           source           = 'Daymet Software Version 3.0'\n",
    "           Version_software = 'Daymet Software Version 3.0'\n",
    "           Version_data     = 'Daymet Data Version 3.0'\n",
    "           Conventions      = 'CF-1.6'\n",
    "           citation         = 'Please see http://daymet.ornl.gov/ for current Daymet data citation information'\n",
    "           references       = 'Please see http://daymet.ornl.gov/ for current information on Daymet references'\n",
    "           \n",
    "Dimensions:\n",
    "           x    = 7814\n",
    "           y    = 8075\n",
    "           time = 365   (UNLIMITED)\n",
    "           nv   = 2\n",
    "           \n",
    "Variables:\n",
    "    x                      \n",
    "           Size:       7814x1\n",
    "           Dimensions: x\n",
    "           Datatype:   single\n",
    "           Attributes:\n",
    "                       units         = 'm'\n",
    "                       long_name     = 'x coordinate of projection'\n",
    "                       standard_name = 'projection_x_coordinate'\n",
    "    y                      \n",
    "           Size:       8075x1\n",
    "           Dimensions: y\n",
    "           Datatype:   single\n",
    "           Attributes:\n",
    "                       units         = 'm'\n",
    "                       long_name     = 'y coordinate of projection'\n",
    "                       standard_name = 'projection_y_coordinate'\n",
    "    lat                    \n",
    "           Size:       7814x8075\n",
    "           Dimensions: x,y\n",
    "           Datatype:   single\n",
    "           Attributes:\n",
    "                       units         = 'degrees_north'\n",
    "                       long_name     = 'latitude coordinate'\n",
    "                       standard_name = 'latitude'\n",
    "    lon                    \n",
    "           Size:       7814x8075\n",
    "           Dimensions: x,y\n",
    "           Datatype:   single\n",
    "           Attributes:\n",
    "                       units         = 'degrees_east'\n",
    "                       long_name     = 'longitude coordinate'\n",
    "                       standard_name = 'longitude'\n",
    "    time                   \n",
    "           Size:       365x1\n",
    "           Dimensions: time\n",
    "           Datatype:   single\n",
    "           Attributes:\n",
    "                       long_name = 'time'\n",
    "                       calendar  = 'standard'\n",
    "                       units     = 'days since 1980-01-01 00:00:00 UTC'\n",
    "                       bounds    = 'time_bnds'\n",
    "    yearday                \n",
    "           Size:       365x1\n",
    "           Dimensions: time\n",
    "           Datatype:   int16\n",
    "           Attributes:\n",
    "                       long_name = 'yearday'\n",
    "    time_bnds              \n",
    "           Size:       2x365\n",
    "           Dimensions: nv,time\n",
    "           Datatype:   single\n",
    "    lambert_conformal_conic\n",
    "           Size:       1x1\n",
    "           Dimensions: \n",
    "           Datatype:   int16\n",
    "           Attributes:\n",
    "                       grid_mapping_name             = 'lambert_conformal_conic'\n",
    "                       longitude_of_central_meridian = -100\n",
    "                       latitude_of_projection_origin = 42.5\n",
    "                       false_easting                 = 0\n",
    "                       false_northing                = 0\n",
    "                       standard_parallel             = [25  60]\n",
    "                       semi_major_axis               = 6378137\n",
    "                       inverse_flattening            = 298.2572\n",
    "    prcp                   \n",
    "           Size:       7814x8075x365\n",
    "           Dimensions: x,y,time\n",
    "           Datatype:   single\n",
    "           Attributes:\n",
    "                       _FillValue    = -9999\n",
    "                       long_name     = 'daily total precipitation'\n",
    "                       units         = 'mm/day'\n",
    "                       missing_value = -9999\n",
    "                       coordinates   = 'lat lon'\n",
    "                       grid_mapping  = 'lambert_conformal_conic'\n",
    "                       cell_methods  = 'area: mean time: sum'\n",
    "\n",
    "### netcdf 数据存储基础知识\n",
    "\n",
    "NetCDF 文件中的数据以**数组形式**存储。例如：某个位置处随时间变化的温度以一维数组的形式存储。某个区域内在指定时间的温度以二维数组的形式存储。\n",
    "\n",
    "三维 (3D) 数据（如某个区域内随时间变化的温度）或四维 (4D) 数据（如某个区域内随时间和高度变化的温度）以一系列二维数组的形式存储。如下图所示：\n",
    "\n",
    "![3d-data](GUID-D872A4C3-749E-4159-A6C0-FB6D3B47C5D8-web.gif)\n",
    "![4d-data](GUID-1D7240CD-54D4-45FF-A150-43B1AFFBF7D6-web.gif)\n",
    "\n",
    "NetCDF 文件包含维度、变量和属性。将这几部分结合起来使用可以说明数据以及面向数组的数据集中各数据字段之间关系的含义。下图显示的是采用 CDL（网络公用数据格式语言）表示法来描述的 NetCDF 文件结构。CDL 是用于描述 NetCDF 文件内容的 ASCII 格式。上面也已经举过例子说明过了。\n",
    "\n",
    "![cdl](GUID-41416463-CDBA-4D6F-A9C4-57D745DDE958-web.gif)\n",
    "\n",
    "维度、变量和属性的名称由**任意的字母数字字符串（包括下划线和连字符）** 组成，并且以字母或下划线开头。但是，以下划线开头的名称是供系统使用的保留名称。NetCDF 名称区分大小写。"
   ]
  },
  {
   "cell_type": "markdown",
   "metadata": {},
   "source": [
    "## 安装netcdf\n",
    "\n",
    "水文上很多模型算法使用和维护的社区人员不多，经常有使用的依赖库的版本不是最新的情况，所以如果是为了特定目的安装（比如配合某个模型），则需要注意下netcdf版本，如果只是读取netcdf数据，那依据官方[用户手册](https://www.unidata.ucar.edu/software/netcdf/docs/getting_and_building_netcdf.html)安装最新的稳定版本即可。如果是在python环境下使用，即本repo下，那么使用conda即安装好了相应的环境，以下安装内容内容可以跳过。\n",
    "\n",
    "如果是用pip，那么需要自己手动安装好相应的程序，安装过程如下。\n",
    "\n",
    "参考资料：\n",
    "- [Python programming guide for Earth Scientists](http://python.hydrology-amsterdam.nl/manuals/hydro_python_manual.pdf)；\n",
    "- [什么是 NetCDF 数据？](http://desktop.arcgis.com/zh-cn/arcmap/10.3/manage-data/netcdf/what-is-netcdf-data.htm)\n",
    "- [netcdf4-python](https://github.com/Unidata/netcdf4-python)；\n",
    "- [Python-NetCDF reading and writing example with plotting](http://schubert.atmos.colostate.edu/~cslocum/netcdf_example.html)；\n",
    "- [netcdf-fortran以及netcdf-python安装](http://aristotle0.github.io/2015/01/16/2015-01-16-netcdf-installation/)；\n",
    "- [官网](https://www.unidata.ucar.edu/software/netcdf/docs/getting_and_building_netcdf.html)\n",
    "- [Reading netCDF data](https://nbviewer.jupyter.org/github/Unidata/netcdf4-python/blob/master/examples/reading_netCDF.ipynb)\n",
    "- [Writing netCDF data](https://nbviewer.jupyter.org/github/Unidata/netcdf4-python/blob/master/examples/writing_netCDF.ipynb)\n",
    "\n",
    "### Ubuntu18.04下安装\n",
    "\n",
    "由于netcdf4-python是基于netcdf C库的，因此首先需要进行netCDF-C的安装，因为其他库都依赖netCDF，比如Fortran、Python、Java、C++等库，C库的安装是必要条件。\n",
    "\n",
    "#### 获取netCDF-C\n",
    "\n",
    "可以通过apt-get获取pre-built的库，也可以直接获取最新版本的源码，这里选择从源码安装，因为下载[源码](https://github.com/Unidata/netcdf-c/releases)，这里选择下载tar.gz版本，zip版应该也没区别。\n",
    "\n",
    "#### 构建netCDF-C\n",
    "\n",
    "netCDF库需要第三方的库才能实现完整的功能。\n",
    "\n",
    "依赖有：\n",
    "\n",
    "- 对netCDF-4的支持需要：\n",
    "  - HDF5 1.8.9 or later.\n",
    "  - HDF5 1.10.1 or later.\n",
    "- zlib 1.2.5 or later (for netCDF-4 compression)\n",
    "- curl 7.18.0 or later (for DAP remote access client support)\n",
    "- For parallel I/O support on classic netCDF files\n",
    "  - PnetCDF 1.6.0 or later\n",
    "\n",
    "注意：对4.4.1以前的版本，只能使用HDF5 1.8.X版本。\n",
    "\n",
    "这里都选择安装最新版。\n",
    "\n",
    "[下载](https://www.zlib.net/)并构建zlib：\n",
    "\n",
    "下载源码后，进入文件夹。可以按一般做法，把源码解压到usr/local/src中。然后进行构建。**如果不选择/usr/local作为安装路径而是自己新建文件夹，后期如果在C语言代码中遇到include的情况时，还需要配置，否则会报错，因此这里依从官网的安装方式**。如果后面有问题，需要卸载的话，直接在src文件夹下用sudo make uninstall卸载即可。\n",
    "\n",
    "``` bash\n",
    "sudo tar -zxvf zlib-1.2.11.tar.gz -C /usr/local/src\n",
    "cd /usr/local/src/zlib-1.2.11\n",
    "sudo ./configure --prefix=/usr/local\n",
    "sudo make\n",
    "sudo make check\n",
    "sudo make install\n",
    "```\n",
    "\n",
    "下载并构建hdf5：\n",
    "\n",
    "进入hdf5的[官网下载页面](https://www.hdfgroup.org/downloads/hdf5/)，可以看到source code和如何用configure构建的说明，下载源码之后结合构建说明（在release_docs文件夹下的install文件里有详细说明）以及netcdf官方文档的说明做即可。具体代码如下：\n",
    "\n",
    "``` bash\n",
    "sudo tar -zxvf hdf5-1.10.5.tar.gz -C /usr/local/src\n",
    "cd /usr/local/src/hdf5-1.10.5\n",
    "sudo ./configure --with-zlib=/usr/local --prefix=/usr/local\n",
    "sudo make\n",
    "sudo make check\n",
    "sudo make install\n",
    "```\n",
    "\n",
    "根据HDF5安装文档，线程安全的能力配置中有--enable-hl等命令，详细地还需进一步参考说明，我看别的安装文档中也都没有这一项，加上个人不太清楚这个命令是干什么的，所以就不使用--enable-hl了，况且netcdf用户手册里面还敲错了。\n",
    "sudo make可能需要花费几分钟的时间，需要等待。\n",
    "sudo make check可能需要花费几分钟的时间，需要等待。没有报错就可以执行安装了。\n",
    "\n",
    "[下载](https://curl.haxx.se/download.html)并构建curl：\n",
    "\n",
    "安装curl之前，首先看看openssl有没有安装，执行如下命令：\n",
    "\n",
    "```Shell\n",
    "openssl version -a\n",
    "```\n",
    "\n",
    "我的openssl是安装在anaconda文件夹下的。\n",
    "\n",
    "然后再检查下curl是否已经安装，如果已经安装了，那就不必再执行下面的安装步骤了。\n",
    "\n",
    "```Shell\n",
    "curl -V\n",
    "```\n",
    "\n",
    "安装curl的代码：\n",
    "\n",
    "``` bash\n",
    "sudo tar -zxvf curl-7.67.0.tar.gz -C /usr/local/src\n",
    "cd /usr/local/src/curl-7.67.0\n",
    "sudo ./configure --prefix=/usr/local\n",
    "sudo make\n",
    "sudo make check\n",
    "sudo make install\n",
    "```\n",
    "\n",
    "sudo make check可能需要花费几分钟时间。中间我遇到了一些错误，有一些权限问题，暂时未处理，因为不影响我的使用。\n",
    "\n",
    "安装[mpich](http://www.mpich.org/downloads/)：\n",
    "\n",
    "根据官方文档，最简单的安装方法是使用apt。因此这里就直接使用这种方式了。\n",
    "\n",
    "``` bash\n",
    "sudo apt-get install mpich\n",
    "```\n",
    "\n",
    "最后构建安装[netcdf](https://www.unidata.ucar.edu/downloads/netcdf/index.jsp)，执行以下代码\n",
    "\n",
    "``` bash\n",
    "sudo tar -zxvf netcdf-c-4.7.3.tar.gz -C /usr/local/src\n",
    "cd /usr/local/src/netcdf-c-4.7.3\n",
    "sudo CPPFLAGS='-I/usr/local/include' LDFLAGS='-L/usr/local/lib' ./configure --prefix=/usr/local\n",
    "sudo make\n",
    "sudo make check\n",
    "sudo make install\n",
    "```\n",
    "\n",
    "如果出现错误：\n",
    "\n",
    "``` bash\n",
    "configure: error: Cannot find m4 utility. Install m4 and try again.\n",
    "```\n",
    "\n",
    "则则安装m4，执行下列代码安装ｍ4即可。\n",
    "\n",
    "``` bash\n",
    "sudo apt install m4\n",
    "```\n",
    "然后再继续执行sudo CPPFLAGS='-I/usr/local/include' LDFLAGS='-L/usr/local/lib' ./configure --prefix=/usr/local 语句即可。\n",
    "\n",
    "sudo make check可能需要花费几分钟时间。\n",
    "\n",
    "安装完成之后，使用下列代码看看自己是否安装成功：\n",
    "\n",
    "``` bash\n",
    "nc-config --version\n",
    "```\n",
    "\n",
    "### windows下的安装\n",
    "\n",
    "可以下载[exe文件](https://www.unidata.ucar.edu/software/netcdf/docs/winbin.html)直接安装，安装过程参考：[Install netCDF](http://geog.uoregon.edu/bartlein/courses/geog490/install_netCDF.html)。\n",
    "\n",
    "### netCDF-python\n",
    "\n",
    "使用pip和conda都可以安装netCDF4-python。\n",
    "\n",
    "``` bash\n",
    "conda install netCDF4\n",
    "```\n",
    "安装完成之后，测试："
   ]
  },
  {
   "cell_type": "code",
   "execution_count": 1,
   "metadata": {},
   "outputs": [],
   "source": [
    "import netCDF4"
   ]
  },
  {
   "cell_type": "markdown",
   "metadata": {},
   "source": [
    "导入没有报错即安装成功。接下来记录读写netcdf文件过程。\n",
    "\n",
    "## 读取netcdf文件\n",
    "\n",
    "以下代码：Developed by Jeff Whitaker at NOAA, with many contributions from users.\n",
    "\n",
    "首先按前述代码导入netcdf包。接下来使用的数据是 Atlantic Real-Time Ocean Forecast System的文件。\n",
    "\n",
    "### Dataset对象\n",
    "\n",
    "f是一个Dataset对象，代表一个打开的netcdf文件。输出这个对象会给出其总结信息。"
   ]
  },
  {
   "cell_type": "code",
   "execution_count": 4,
   "metadata": {},
   "outputs": [
    {
     "name": "stdout",
     "output_type": "stream",
     "text": [
      "<class 'netCDF4._netCDF4.Dataset'>\n",
      "root group (NETCDF4_CLASSIC data model, file format HDF5):\n",
      "    Conventions: CF-1.0\n",
      "    title: HYCOM ATLb2.00\n",
      "    institution: National Centers for Environmental Prediction\n",
      "    source: HYCOM archive file\n",
      "    experiment: 90.9\n",
      "    history: archv2ncdf3z\n",
      "    dimensions(sizes): MT(1), Y(850), X(712), Depth(10)\n",
      "    variables(dimensions): float64 MT(MT), float64 Date(MT), float32 Depth(Depth), int32 Y(Y), int32 X(X), float32 Latitude(Y, X), float32 Longitude(Y, X), float32 u(MT, Depth, Y, X), float32 v(MT, Depth, Y, X), float32 temperature(MT, Depth, Y, X), float32 salinity(MT, Depth, Y, X)\n",
      "    groups: \n"
     ]
    }
   ],
   "source": [
    "import netCDF4\n",
    "import numpy as np\n",
    "f = netCDF4.Dataset('data/rtofs_glo_3dz_f006_6hrly_reg3.nc')\n",
    "print(f) "
   ]
  },
  {
   "cell_type": "markdown",
   "metadata": {},
   "source": [
    "### Variable对象\n",
    "\n",
    "访问netcdf的变量。变量即之前介绍过的variables，是netcdf中最重要的存储数据的部分。变量对象存储在variables dict中，直接print也是给出summary的信息。到目前为止还没开始读取netcdf数据。"
   ]
  },
  {
   "cell_type": "code",
   "execution_count": 5,
   "metadata": {},
   "outputs": [
    {
     "name": "stdout",
     "output_type": "stream",
     "text": [
      "dict_keys(['MT', 'Date', 'Depth', 'Y', 'X', 'Latitude', 'Longitude', 'u', 'v', 'temperature', 'salinity'])\n",
      "<class 'netCDF4._netCDF4.Variable'>\n",
      "float32 temperature(MT, Depth, Y, X)\n",
      "    coordinates: Longitude Latitude Date\n",
      "    standard_name: sea_water_potential_temperature\n",
      "    units: degC\n",
      "    _FillValue: 1.2676506e+30\n",
      "    valid_range: [-5.078603  11.1498995]\n",
      "    long_name:   temp [90.9H]\n",
      "unlimited dimensions: MT\n",
      "current shape = (1, 10, 850, 712)\n",
      "filling on\n",
      "计算耗时： 0.1599929\n",
      "[[[[5.613008975982666 5.592118740081787 5.5078816413879395 ... -- -- --]\n",
      "   [5.492509365081787 5.492440700531006 5.495716571807861 ... -- -- --]\n",
      "   [5.467677593231201 5.467552185058594 5.478255748748779 ... -- -- --]\n",
      "   ...\n",
      "   [-1.645424723625183 -1.6457260847091675 -1.6460931301116943 ... --\n",
      "    -- --]\n",
      "   [-1.645472764968872 -1.6456950902938843 -1.6459836959838867 ... --\n",
      "    -- --]\n",
      "   [-1.6455711126327515 -1.645695447921753 -1.645879864692688 ... -- --\n",
      "    --]]\n",
      "\n",
      "  [[4.055324077606201 4.096860408782959 4.143278121948242 ... -- -- --]\n",
      "   [4.120151042938232 4.133530616760254 4.156247615814209 ... -- -- --]\n",
      "   [4.114378452301025 4.116672515869141 4.124671936035156 ... -- -- --]\n",
      "   ...\n",
      "   [-1.2641310691833496 -1.2697802782058716 -1.274120807647705 ... --\n",
      "    -- --]\n",
      "   [-1.2599267959594727 -1.2655619382858276 -1.2704617977142334 ... --\n",
      "    -- --]\n",
      "   [-1.2551732063293457 -1.2604109048843384 -1.2655599117279053 ... --\n",
      "    -- --]]\n",
      "\n",
      "  [[4.24624490737915 4.270244121551514 4.294907569885254 ... -- -- --]\n",
      "   [4.290802955627441 4.298205852508545 4.310777187347412 ... -- -- --]\n",
      "   [4.275737285614014 4.275024890899658 4.277779579162598 ... -- -- --]\n",
      "   ...\n",
      "   [-0.9248144626617432 -0.9224144816398621 -0.9188711047172546 ... --\n",
      "    -- --]\n",
      "   [-0.9253168106079102 -0.9218600392341614 -0.9166687726974487 ... --\n",
      "    -- --]\n",
      "   [-0.9248967170715332 -0.9203963279724121 -0.9141523838043213 ... --\n",
      "    -- --]]\n",
      "\n",
      "  ...\n",
      "\n",
      "  [[1.3418318033218384 1.3425949811935425 1.3418434858322144 ... -- --\n",
      "    --]\n",
      "   [1.340480089187622 1.341936707496643 1.3413714170455933 ... -- -- --]\n",
      "   [1.339811086654663 1.3415160179138184 1.3410365581512451 ... -- --\n",
      "    --]\n",
      "   ...\n",
      "   [-- -- -- ... -- -- --]\n",
      "   [-- -- -- ... -- -- --]\n",
      "   [-- -- -- ... -- -- --]]\n",
      "\n",
      "  [[1.1551634073257446 1.1566911935806274 1.1576253175735474 ... -- --\n",
      "    --]\n",
      "   [1.1543313264846802 1.1565146446228027 1.1578011512756348 ... -- --\n",
      "    --]\n",
      "   [1.1541063785552979 1.1565728187561035 1.1579166650772095 ... -- --\n",
      "    --]\n",
      "   ...\n",
      "   [-- -- -- ... -- -- --]\n",
      "   [-- -- -- ... -- -- --]\n",
      "   [-- -- -- ... -- -- --]]\n",
      "\n",
      "  [[1.039935827255249 1.041149616241455 1.0423094034194946 ... -- -- --]\n",
      "   [1.0404516458511353 1.0416022539138794 1.0429106950759888 ... -- --\n",
      "    --]\n",
      "   [1.0377942323684692 1.0396771430969238 1.043178915977478 ... -- --\n",
      "    --]\n",
      "   ...\n",
      "   [-- -- -- ... -- -- --]\n",
      "   [-- -- -- ... -- -- --]\n",
      "   [-- -- -- ... -- -- --]]]]\n",
      "计算耗时： 0.1469963\n",
      "[[[5.613008975982666 5.592118740081787 5.5078816413879395 ... -- -- --]\n",
      "  [5.492509365081787 5.492440700531006 5.495716571807861 ... -- -- --]\n",
      "  [5.467677593231201 5.467552185058594 5.478255748748779 ... -- -- --]\n",
      "  ...\n",
      "  [-1.645424723625183 -1.6457260847091675 -1.6460931301116943 ... -- --\n",
      "   --]\n",
      "  [-1.645472764968872 -1.6456950902938843 -1.6459836959838867 ... -- --\n",
      "   --]\n",
      "  [-1.6455711126327515 -1.645695447921753 -1.645879864692688 ... -- --\n",
      "   --]]\n",
      "\n",
      " [[4.055324077606201 4.096860408782959 4.143278121948242 ... -- -- --]\n",
      "  [4.120151042938232 4.133530616760254 4.156247615814209 ... -- -- --]\n",
      "  [4.114378452301025 4.116672515869141 4.124671936035156 ... -- -- --]\n",
      "  ...\n",
      "  [-1.2641310691833496 -1.2697802782058716 -1.274120807647705 ... -- --\n",
      "   --]\n",
      "  [-1.2599267959594727 -1.2655619382858276 -1.2704617977142334 ... -- --\n",
      "   --]\n",
      "  [-1.2551732063293457 -1.2604109048843384 -1.2655599117279053 ... -- --\n",
      "   --]]\n",
      "\n",
      " [[4.24624490737915 4.270244121551514 4.294907569885254 ... -- -- --]\n",
      "  [4.290802955627441 4.298205852508545 4.310777187347412 ... -- -- --]\n",
      "  [4.275737285614014 4.275024890899658 4.277779579162598 ... -- -- --]\n",
      "  ...\n",
      "  [-0.9248144626617432 -0.9224144816398621 -0.9188711047172546 ... -- --\n",
      "   --]\n",
      "  [-0.9253168106079102 -0.9218600392341614 -0.9166687726974487 ... -- --\n",
      "   --]\n",
      "  [-0.9248967170715332 -0.9203963279724121 -0.9141523838043213 ... -- --\n",
      "   --]]\n",
      "\n",
      " ...\n",
      "\n",
      " [[1.3418318033218384 1.3425949811935425 1.3418434858322144 ... -- -- --]\n",
      "  [1.340480089187622 1.341936707496643 1.3413714170455933 ... -- -- --]\n",
      "  [1.339811086654663 1.3415160179138184 1.3410365581512451 ... -- -- --]\n",
      "  ...\n",
      "  [-- -- -- ... -- -- --]\n",
      "  [-- -- -- ... -- -- --]\n",
      "  [-- -- -- ... -- -- --]]\n",
      "\n",
      " [[1.1551634073257446 1.1566911935806274 1.1576253175735474 ... -- -- --]\n",
      "  [1.1543313264846802 1.1565146446228027 1.1578011512756348 ... -- -- --]\n",
      "  [1.1541063785552979 1.1565728187561035 1.1579166650772095 ... -- -- --]\n",
      "  ...\n",
      "  [-- -- -- ... -- -- --]\n",
      "  [-- -- -- ... -- -- --]\n",
      "  [-- -- -- ... -- -- --]]\n",
      "\n",
      " [[1.039935827255249 1.041149616241455 1.0423094034194946 ... -- -- --]\n",
      "  [1.0404516458511353 1.0416022539138794 1.0429106950759888 ... -- -- --]\n",
      "  [1.0377942323684692 1.0396771430969238 1.043178915977478 ... -- -- --]\n",
      "  ...\n",
      "  [-- -- -- ... -- -- --]\n",
      "  [-- -- -- ... -- -- --]\n",
      "  [-- -- -- ... -- -- --]]]\n",
      "计算耗时： 0.1370265\n",
      "[5.613008975982666 4.055324077606201 4.24624490737915 4.107095241546631\n",
      " 3.455632448196411 2.8186182975769043 1.850439429283142 1.3418318033218384\n",
      " 1.1551634073257446 1.039935827255249]\n"
     ]
    }
   ],
   "source": [
    "import time\n",
    "print(f.variables.keys()) # get all variable names\n",
    "temp = f.variables['temperature']  # temperature variable\n",
    "print(temp) \n",
    "start = time.time()\n",
    "temp_all = f.variables['temperature'][:]  # temperature all data\n",
    "end = time.time()\n",
    "print('计算耗时：', '%.7f' % (end - start))\n",
    "print(temp_all) \n",
    "start = time.time()\n",
    "temp0 = f.variables['temperature'][0][:] # temperature  3d data\n",
    "end = time.time()\n",
    "print('计算耗时：', '%.7f' % (end - start))\n",
    "print(temp0)\n",
    "start = time.time()\n",
    "temp00 = f.variables['temperature'][0][:][:,0,0] # temperature variable\n",
    "end = time.time()\n",
    "print('计算耗时：', '%.7f' % (end - start))\n",
    "print(temp00)"
   ]
  },
  {
   "cell_type": "markdown",
   "metadata": {},
   "source": [
    "### Dimensions\n",
    "\n",
    "netcdf文件所有的变量都有shape，由一个维度的list构成。其中unlimited的那个就是唯一的无限制唯独。"
   ]
  },
  {
   "cell_type": "code",
   "execution_count": 6,
   "metadata": {},
   "outputs": [
    {
     "name": "stdout",
     "output_type": "stream",
     "text": [
      "('MT', <class 'netCDF4._netCDF4.Dimension'> (unlimited): name = 'MT', size = 1)\n",
      "('Y', <class 'netCDF4._netCDF4.Dimension'>: name = 'Y', size = 850)\n",
      "('X', <class 'netCDF4._netCDF4.Dimension'>: name = 'X', size = 712)\n",
      "('Depth', <class 'netCDF4._netCDF4.Dimension'>: name = 'Depth', size = 10)\n",
      "('MT', 'Depth', 'Y', 'X')\n",
      "(1, 10, 850, 712)\n"
     ]
    }
   ],
   "source": [
    "for d in f.dimensions.items():\n",
    "    print(d)\n",
    "    \n",
    "print(temp.dimensions)\n",
    "print(temp.shape)"
   ]
  },
  {
   "cell_type": "markdown",
   "metadata": {},
   "source": [
    "每个维度都对应一个坐标变量。坐标变量是一维变量，名字和维度保持一致，坐标变量以及坐标属性或者称为辅助坐标变量，在时空上定位每个value。"
   ]
  },
  {
   "cell_type": "code",
   "execution_count": 7,
   "metadata": {},
   "outputs": [
    {
     "name": "stdout",
     "output_type": "stream",
     "text": [
      "<class 'netCDF4._netCDF4.Variable'>\n",
      "float64 MT(MT)\n",
      "    long_name: time\n",
      "    units: days since 1900-12-31 00:00:00\n",
      "    calendar: standard\n",
      "    axis: T\n",
      "unlimited dimensions: MT\n",
      "current shape = (1,)\n",
      "filling on, default _FillValue of 9.969209968386869e+36 used\n",
      "<class 'netCDF4._netCDF4.Variable'>\n",
      "int32 X(X)\n",
      "    point_spacing: even\n",
      "    axis: X\n",
      "unlimited dimensions: \n",
      "current shape = (712,)\n",
      "filling on, default _FillValue of -2147483647 used\n"
     ]
    }
   ],
   "source": [
    "mt = f.variables['MT']\n",
    "depth = f.variables['Depth']\n",
    "x,y = f.variables['X'], f.variables['Y']\n",
    "print(mt)\n",
    "print(x)     "
   ]
  },
  {
   "cell_type": "markdown",
   "metadata": {},
   "source": [
    "### 访问变量数据\n",
    "\n",
    "netcdf的变量对象和numpy的数组很相似。可以对变量进行切片。不过条件判断切片只能是一维的，如下例子所示，要在每个维度上分别判断。"
   ]
  },
  {
   "cell_type": "code",
   "execution_count": 8,
   "metadata": {},
   "outputs": [
    {
     "name": "stdout",
     "output_type": "stream",
     "text": [
      "[41023.25]\n",
      "[   0.  100.  200.  400.  700. 1000. 2000. 3000. 4000. 5000.]\n",
      "shape of temp variable: (1, 10, 850, 712)\n",
      "shape of temp slice: (6, 425, 356)\n"
     ]
    }
   ],
   "source": [
    "time = mt[:]  # Reads the netCDF variable MT, array of one element\n",
    "print(time) \n",
    "dpth = depth[:] # examine depth array\n",
    "print(dpth) \n",
    "xx,yy = x[:],y[:]\n",
    "print('shape of temp variable: %s' % repr(temp.shape))\n",
    "tempslice = temp[0, dpth > 400, yy > yy.max()/2, xx > xx.max()/2]\n",
    "print('shape of temp slice: %s' % repr(tempslice.shape))"
   ]
  },
  {
   "cell_type": "markdown",
   "metadata": {},
   "source": [
    "可以读取具体位置的变量，如下例所示，那么提出问题，在50N，140W处的温度和盐度是多少。那么首先要找到50N，140W坐标点的indices，坐标是在经纬度变量中存储，首先判断哪个点和50N，140W处最近，使用如下函数。可以看到是利用了numpy快速的找到了该点。"
   ]
  },
  {
   "cell_type": "code",
   "execution_count": 9,
   "metadata": {},
   "outputs": [
    {
     "name": "stdout",
     "output_type": "stream",
     "text": [
      "<class 'netCDF4._netCDF4.Variable'>\n",
      "float32 Latitude(Y, X)\n",
      "    standard_name: latitude\n",
      "    units: degrees_north\n",
      "unlimited dimensions: \n",
      "current shape = (850, 712)\n",
      "filling on, default _FillValue of 9.969209968386869e+36 used\n",
      "122\n",
      "486\n"
     ]
    }
   ],
   "source": [
    "lat, lon = f.variables['Latitude'], f.variables['Longitude']\n",
    "print(lat)\n",
    "# extract lat/lon values (in degrees) to numpy arrays\n",
    "latvals = lat[:]; lonvals = lon[:] \n",
    "# a function to find the index of the point closest pt\n",
    "# (in squared distance) to give lat/lon value.\n",
    "def getclosest_ij(lats,lons,latpt,lonpt):\n",
    "    # find squared distance of every point on grid\n",
    "    dist_sq = (lats-latpt)**2 + (lons-lonpt)**2  \n",
    "    # 1D index of minimum dist_sq element\n",
    "    minindex_flattened = dist_sq.argmin()    \n",
    "    # Get 2D index for latvals and lonvals arrays from 1D index\n",
    "    return np.unravel_index(minindex_flattened, lats.shape)\n",
    "iy_min, ix_min = getclosest_ij(latvals, lonvals, 50., -140)\n",
    "print(iy_min)\n",
    "print(ix_min)"
   ]
  },
  {
   "cell_type": "markdown",
   "metadata": {},
   "source": [
    "根据上述代码可以得到，然后就可以读取这个特定点上的温度和盐度变量数据了。"
   ]
  },
  {
   "cell_type": "code",
   "execution_count": 10,
   "metadata": {},
   "outputs": [
    {
     "name": "stdout",
     "output_type": "stream",
     "text": [
      " 6.4631 degC\n",
      "32.6572 psu\n"
     ]
    }
   ],
   "source": [
    "sal = f.variables['salinity']\n",
    "# Read values out of the netCDF file for temperature and salinity\n",
    "print('%7.4f %s' % (temp[0,0,iy_min,ix_min], temp.units))\n",
    "print('%7.4f %s' % (sal[0,0,iy_min,ix_min], sal.units))"
   ]
  },
  {
   "cell_type": "markdown",
   "metadata": {},
   "source": [
    "### 通过openDAP 远程数据访问\n",
    "\n",
    "使用netcdf4-python API可以直接访问远程数据。通过DAP协议和DAP服务期，比如TDS，访问。并支持许多数据格式，包括GRIB。"
   ]
  },
  {
   "cell_type": "code",
   "execution_count": 59,
   "metadata": {},
   "outputs": [
    {
     "name": "stdout",
     "output_type": "stream",
     "text": [
      "http://thredds.ucar.edu/thredds/dodsC/grib/NCEP/GFS/Global_0p5deg/GFS_Global_0p5deg_20191125_0000.grib2/GC\n"
     ]
    }
   ],
   "source": [
    "import datetime\n",
    "date = datetime.datetime.now()\n",
    "# build URL for latest synoptic analysis time\n",
    "URL = 'http://thredds.ucar.edu/thredds/dodsC/grib/NCEP/GFS/Global_0p5deg/GFS_Global_0p5deg_%04i%02i%02i_%02i%02i.grib2/GC' %\\\n",
    "(date.year,date.month,date.day,6*(date.hour//6),0)\n",
    "# keep moving back 6 hours until a valid URL found\n",
    "validURL = False; ncount = 0\n",
    "while (not validURL and ncount < 10):\n",
    "    print(URL)\n",
    "    try:\n",
    "        gfs = netCDF4.Dataset(URL)\n",
    "        validURL = True\n",
    "    except RuntimeError:\n",
    "        date -= datetime.timedelta(hours=6)\n",
    "        ncount += 1       "
   ]
  },
  {
   "cell_type": "code",
   "execution_count": 60,
   "metadata": {},
   "outputs": [
    {
     "name": "stdout",
     "output_type": "stream",
     "text": [
      "<class 'netCDF4._netCDF4.Variable'>\n",
      "float32 Temperature_surface(time2, lat, lon)\n",
      "    long_name: Temperature @ Ground or water surface\n",
      "    units: K\n",
      "    abbreviation: TMP\n",
      "    missing_value: nan\n",
      "    grid_mapping: LatLon_Projection\n",
      "    coordinates: reftime time2 lat lon \n",
      "    Grib_Variable_Id: VAR_0-0-0_L1\n",
      "    Grib2_Parameter: [0 0 0]\n",
      "    Grib2_Parameter_Discipline: Meteorological products\n",
      "    Grib2_Parameter_Category: Temperature\n",
      "    Grib2_Parameter_Name: Temperature\n",
      "    Grib2_Level_Type: 1\n",
      "    Grib2_Level_Desc: Ground or water surface\n",
      "    Grib2_Generating_Process_Type: Forecast\n",
      "unlimited dimensions: \n",
      "current shape = (127, 361, 720)\n",
      "filling off\n",
      "\n",
      "<class 'netCDF4._netCDF4.Variable'>\n",
      "float64 time2(time2)\n",
      "    units: Hour since 2019-11-25T00:00:00Z\n",
      "    standard_name: time\n",
      "    long_name: GRIB forecast or observation time\n",
      "    calendar: proleptic_gregorian\n",
      "    _CoordinateAxisType: Time\n",
      "unlimited dimensions: \n",
      "current shape = (127,)\n",
      "filling off\n",
      "\n",
      "<class 'netCDF4._netCDF4.Variable'>\n",
      "float32 lat(lat)\n",
      "    units: degrees_north\n",
      "    _CoordinateAxisType: Lat\n",
      "unlimited dimensions: \n",
      "current shape = (361,)\n",
      "filling off\n",
      "\n",
      "<class 'netCDF4._netCDF4.Variable'>\n",
      "float32 lon(lon)\n",
      "    units: degrees_east\n",
      "    _CoordinateAxisType: Lon\n",
      "unlimited dimensions: \n",
      "current shape = (720,)\n",
      "filling off\n",
      "\n"
     ]
    }
   ],
   "source": [
    "# Look at metadata for a specific variable\n",
    "# gfs.variables.keys() will show all available variables.\n",
    "sfctmp = gfs.variables['Temperature_surface']\n",
    "# get info about sfctmp\n",
    "print(sfctmp)\n",
    "# print coord vars associated with this variable\n",
    "for dname in sfctmp.dimensions:   \n",
    "    print(gfs.variables[dname])"
   ]
  },
  {
   "cell_type": "markdown",
   "metadata": {},
   "source": [
    "### 缺失值\n",
    "\n",
    "当数据有缺失时，会返回一个masked数组。"
   ]
  },
  {
   "cell_type": "code",
   "execution_count": 61,
   "metadata": {},
   "outputs": [
    {
     "name": "stdout",
     "output_type": "stream",
     "text": [
      "shape=(361, 720), type=<class 'numpy.ma.core.MaskedArray'>, missing_value=nan\n"
     ]
    },
    {
     "data": {
      "image/png": "[encoded data removed]",
      "text/plain": [
       "<Figure size 432x288 with 1 Axes>"
      ]
     },
     "metadata": {
      "needs_background": "light"
     },
     "output_type": "display_data"
    }
   ],
   "source": [
    "soilmvar = gfs.variables['Volumetric_Soil_Moisture_Content_depth_below_surface_layer']\n",
    "# flip the data in latitude so North Hemisphere is up on the plot\n",
    "soilm = soilmvar[0,0,::-1,:] \n",
    "print('shape=%s, type=%s, missing_value=%s' % \\\n",
    "      (soilm.shape, type(soilm), soilmvar.missing_value))\n",
    "import matplotlib.pyplot as plt\n",
    "%matplotlib inline\n",
    "cs = plt.contourf(soilm)"
   ]
  },
  {
   "cell_type": "markdown",
   "metadata": {},
   "source": [
    "### 处理日期时间\n",
    "\n",
    "时间变量通常是和一个固定时间之间的差值来设置。"
   ]
  },
  {
   "cell_type": "code",
   "execution_count": 62,
   "metadata": {},
   "outputs": [
    {
     "name": "stdout",
     "output_type": "stream",
     "text": [
      "name of time dimension = time2\n",
      "units = Hour since 2019-11-25T00:00:00Z, values = [  0.   3.   6.   9.  12.  15.  18.  21.  24.  27.  30.  33.  36.  39.\n",
      "  42.  45.  48.  51.  54.  57.  60.  63.  66.  69.  72.  75.  78.  81.\n",
      "  84.  87.  90.  93.  96.  99. 102. 105. 108. 111. 114. 117. 120. 123.\n",
      " 126. 129. 132. 135. 138. 141. 144. 147. 150. 153. 156. 159. 162. 165.\n",
      " 168. 171. 174. 177. 180. 183. 186. 189. 192. 195. 198. 201. 204. 207.\n",
      " 210. 213. 216. 219. 225. 228. 231. 234. 237. 240. 243. 246. 249. 252.\n",
      " 255. 258. 261. 264. 267. 270. 273. 276. 279. 282. 285. 288. 291. 294.\n",
      " 297. 303. 306. 309. 312. 315. 318. 321. 324. 327. 330. 333. 336. 339.\n",
      " 342. 345. 348. 351. 354. 357. 360. 363. 366. 369. 372. 375. 378. 381.\n",
      " 384.]\n",
      "['2019-11-25 00:00:00', '2019-11-25 03:00:00', '2019-11-25 06:00:00', '2019-11-25 09:00:00', '2019-11-25 12:00:00', '2019-11-25 15:00:00', '2019-11-25 18:00:00', '2019-11-25 21:00:00', '2019-11-26 00:00:00', '2019-11-26 03:00:00']\n"
     ]
    }
   ],
   "source": [
    "from netCDF4 import num2date, date2num, date2index\n",
    "timedim = sfctmp.dimensions[0] # time dim name\n",
    "print('name of time dimension = %s' % timedim)\n",
    "times = gfs.variables[timedim] # time coord var\n",
    "print('units = %s, values = %s' % (times.units, times[:]))\n",
    "dates = num2date(times[:], times.units)\n",
    "print([date.strftime('%Y-%m-%d %H:%M:%S') for date in dates[:10]]) # print only first ten..."
   ]
  },
  {
   "cell_type": "code",
   "execution_count": 63,
   "metadata": {},
   "outputs": [
    {
     "name": "stdout",
     "output_type": "stream",
     "text": [
      "2019-11-28 00:23:38.918680\n",
      "index = 24, date = 2019-11-28 00:00:00\n",
      "Boulder forecast valid at 2019-11-28 00:00:00 UTC = 287.8 K\n"
     ]
    }
   ],
   "source": [
    "from datetime import datetime, timedelta\n",
    "date = datetime.now() + timedelta(days=3)\n",
    "print(date)\n",
    "ntime = date2index(date,times,select='nearest')\n",
    "print('index = %s, date = %s' % (ntime, dates[ntime]))\n",
    "\n",
    "lats, lons = gfs.variables['lat'][:], gfs.variables['lon'][:]\n",
    "# lats, lons are 1-d. Make them 2-d using numpy.meshgrid.\n",
    "lons, lats = np.meshgrid(lons,lats)\n",
    "j, i = getclosest_ij(lats,lons,40,-105)\n",
    "fcst_temp = sfctmp[ntime,j,i]\n",
    "print('Boulder forecast valid at %s UTC = %5.1f %s' % \\\n",
    "      (dates[ntime],fcst_temp,sfctmp.units))"
   ]
  },
  {
   "cell_type": "markdown",
   "metadata": {},
   "source": [
    "### 多文件聚合\n",
    "\n",
    "如果有多个netcdf文件，每年都有一个文件，这是很常见的，如果想访问所有数据，要怎么做。MFDataset uses file globbing to patch together all the files into one big Dataset. You can also pass it a list of specific files.\n",
    "\n",
    "不过缺点是有点慢。"
   ]
  },
  {
   "cell_type": "code",
   "execution_count": 64,
   "metadata": {},
   "outputs": [
    {
     "name": "stdout",
     "output_type": "stream",
     "text": [
      "-rw-rw-r-- 1 owen owen 8985332 Nov 24 21:25 data/prmsl.2000.nc\n",
      "-rw-rw-r-- 1 owen owen 8968789 Nov 24 21:25 data/prmsl.2001.nc\n",
      "-rw-rw-r-- 1 owen owen 8972796 Nov 24 21:25 data/prmsl.2002.nc\n",
      "-rw-rw-r-- 1 owen owen 8974435 Nov 24 21:25 data/prmsl.2003.nc\n",
      "-rw-rw-r-- 1 owen owen 8997438 Nov 24 21:25 data/prmsl.2004.nc\n",
      "-rw-rw-r-- 1 owen owen 8976678 Nov 24 21:25 data/prmsl.2005.nc\n",
      "-rw-rw-r-- 1 owen owen 8969714 Nov 24 21:26 data/prmsl.2006.nc\n",
      "-rw-rw-r-- 1 owen owen 8974360 Nov 24 21:26 data/prmsl.2007.nc\n",
      "-rw-rw-r-- 1 owen owen 8994260 Nov 24 21:26 data/prmsl.2008.nc\n",
      "-rw-rw-r-- 1 owen owen 8974678 Nov 24 21:26 data/prmsl.2009.nc\n",
      "-rw-rw-r-- 1 owen owen 8970732 Nov 24 21:26 data/prmsl.2010.nc\n",
      "-rw-rw-r-- 1 owen owen 8976285 Nov 24 21:26 data/prmsl.2011.nc\n"
     ]
    }
   ],
   "source": [
    "!ls -l data/prmsl*nc"
   ]
  },
  {
   "cell_type": "code",
   "execution_count": 65,
   "metadata": {},
   "outputs": [
    {
     "name": "stdout",
     "output_type": "stream",
     "text": [
      "starting date = 2000-01-01 00:00:00\n",
      "ending date = 2011-12-31 00:00:00\n",
      "times shape = 4383\n",
      "prmsl dimensions = ('time', 'lat', 'lon'), prmsl shape = (4383, 91, 180)\n"
     ]
    }
   ],
   "source": [
    "mf = netCDF4.MFDataset('data/prmsl*nc')\n",
    "times = mf.variables['time']\n",
    "dates = num2date(times[:],times.units)\n",
    "print('starting date = %s' % dates[0])\n",
    "print('ending date = %s'% dates[-1])\n",
    "prmsl = mf.variables['prmsl']\n",
    "print('times shape = %s' % times.shape)\n",
    "print('prmsl dimensions = %s, prmsl shape = %s' %\\\n",
    "     (prmsl.dimensions, prmsl.shape))"
   ]
  },
  {
   "cell_type": "code",
   "execution_count": 66,
   "metadata": {},
   "outputs": [],
   "source": [
    "f.close()\n",
    "gfs.close()"
   ]
  },
  {
   "cell_type": "markdown",
   "metadata": {},
   "source": [
    "以上就是python读取netcdf文件的介绍，接下来是关于写的部分（暂时没用到，暂不记录）。"
   ]
  }
 ],
 "metadata": {
  "kernelspec": {
   "display_name": "Python 3",
   "language": "python",
   "name": "python3"
  },
  "language_info": {
   "codemirror_mode": {
    "name": "ipython",
    "version": 3
   },
   "file_extension": ".py",
   "mimetype": "text/x-python",
   "name": "python",
   "nbconvert_exporter": "python",
   "pygments_lexer": "ipython3",
   "version": "3.7.9"
  }
 },
 "nbformat": 4,
 "nbformat_minor": 4
}
