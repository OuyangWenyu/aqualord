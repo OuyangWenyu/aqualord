{
 "cells": [
  {
   "cell_type": "markdown",
   "metadata": {},
   "source": [
    "# FlowDB数据集\n",
    "\n",
    "该数据集的信息主要参考了[FlowDB: A new large scale river flow, flash flood, and precipitation dataset](https://arxiv.org/abs/2012.11154)这篇文章，接下来对该数据集的内容进行简要介绍。\n",
    "\n",
    "该数据集主要包括：\n",
    "\n",
    "- 小时尺度的河流流量和降水数据集\n",
    "  \n",
    "  包括美国50个州8000多个监测仪的河流流量、降水和温度数据。总计超过7000万小时的河流流量数据。其中流量数据我们使用美国地质服务局( USGS )公开提供的流量数据，我们建立了一个scraper，从2014年到2019年的5年时间里为每个USGS测量仪获取数据；降雨数据来源于USGS、SNOTEL、NOAA、ASOS、EcoNet等资料。\n",
    "\n",
    "- 具有损失估计和伤害计数的山洪事件子集\n",
    "  \n",
    "  数据来源于NOAA的NSSL Flash dataset。我们总共有4320个与山洪相关的事件，在这个数据集中有一个类别不平衡，特别是在伤害/死亡方面，4262次突发洪水事件没有导致任何伤亡。在财产/作物损失方面，有2763宗山洪事件没有造成损失。然而，只有156起事件造成了超过100万美元的损失。"
   ]
  }
 ],
 "metadata": {
  "kernelspec": {
   "display_name": "Python 3 (ipykernel)",
   "language": "python",
   "name": "python3"
  },
  "language_info": {
   "codemirror_mode": {
    "name": "ipython",
    "version": 3
   },
   "file_extension": ".py",
   "mimetype": "text/x-python",
   "name": "python",
   "nbconvert_exporter": "python",
   "pygments_lexer": "ipython3",
   "version": "3.9.7"
  },
  "pycharm": {
   "stem_cell": {
    "cell_type": "raw",
    "metadata": {
     "collapsed": false
    },
    "source": []
   }
  }
 },
 "nbformat": 4,
 "nbformat_minor": 4
}
