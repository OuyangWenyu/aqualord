{
 "cells": [
  {
   "cell_type": "markdown",
   "metadata": {},
   "source": [
    "# NLADS\n",
    "\n",
    "在CAMELS中有三类forcing data：Daymet，Maurau和NLDAS，而CAMELS是水文的一个benchmark数据集，且google earth engine中也有该项数据，因此这里对NLDAS稍微展开叙述一些，主要是结合GEE展开。\n",
    "\n",
    "目前主要使用的NLDAS数据是NLDAS-2: North American Land Data Assimilation System Forcing Fields，该数据集由NASA提供，数据集的时间范围是**1979/01/01到目前**，"
   ]
  }
 ],
 "metadata": {
  "kernelspec": {
   "display_name": "Python 3",
   "language": "python",
   "name": "python3"
  },
  "language_info": {
   "codemirror_mode": {
    "name": "ipython",
    "version": 3
   },
   "file_extension": ".py",
   "mimetype": "text/x-python",
   "name": "python",
   "nbconvert_exporter": "python",
   "pygments_lexer": "ipython3",
   "version": "3.7.4"
  }
 },
 "nbformat": 4,
 "nbformat_minor": 2
}
