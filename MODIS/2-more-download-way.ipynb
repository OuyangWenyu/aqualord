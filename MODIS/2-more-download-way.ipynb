{
 "cells": [
  {
   "cell_type": "markdown",
   "metadata": {},
   "source": [
    "# 用代码下载MODIS数据\n",
    "\n",
    "除了前面介绍的下载方法，如果你比较清楚你想下载的地方的modis tile code，直接使用一些开源代码会更加方便。modis 的tile code开以在[这里](https://modis-land.gsfc.nasa.gov/MODLAND_grid.html)人眼识别，也可以使用如下方法（参考：[Get Modis sinusoidal tile grid positions from latitude and longitude coordinates in Python](https://www.earthdatascience.org/tutorials/convert-modis-tile-to-lat-lon/)）。"
   ]
  },
  {
   "cell_type": "code",
   "execution_count": 1,
   "metadata": {},
   "outputs": [],
   "source": [
    "import numpy as np"
   ]
  },
  {
   "cell_type": "markdown",
   "metadata": {},
   "source": [
    "MODIS提供了一个文本文件，其中包含每个tile的经纬度坐标范围（我已经下载放到本文件夹下了，下载地址：https://modis-land.gsfc.nasa.gov/pdf/sn_bound_10deg.txt ）。把这些数据加载到一个numpy二维数组中。接下来，定义我们想要转换的点的坐标。"
   ]
  },
  {
   "cell_type": "code",
   "execution_count": 2,
   "metadata": {},
   "outputs": [],
   "source": [
    "# first seven rows contain header information\n",
    "# bottom 3 rows are not data\n",
    "data = np.genfromtxt('sn_bound_10deg.txt', \n",
    "                     skip_header = 7, \n",
    "                     skip_footer = 3)\n",
    "lat = 40.015\n",
    "lon = -105.2705"
   ]
  },
  {
   "cell_type": "markdown",
   "metadata": {},
   "source": [
    "现在我们可以循环浏览数组中的每一行（对应于一块tile），检查我们的点是否包含在该tile的坐标范围内。"
   ]
  },
  {
   "cell_type": "code",
   "execution_count": 3,
   "metadata": {},
   "outputs": [],
   "source": [
    "in_tile = False\n",
    "i = 0\n",
    "while(not in_tile):\n",
    "    in_tile = lat >= data[i, 4] and lat <= data[i, 5] and lon >= data[i, 2] and lon <= data[i, 3]\n",
    "    i += 1"
   ]
  },
  {
   "cell_type": "markdown",
   "metadata": {},
   "source": [
    "一旦到达一个包括你要搜索的点的tile，就退出循环，打印出tile的垂直和水平位置。"
   ]
  },
  {
   "cell_type": "code",
   "execution_count": 4,
   "metadata": {},
   "outputs": [
    {
     "name": "stdout",
     "output_type": "stream",
     "text": [
      "Vertical Tile: 4.0 Horizontal Tile: 9.0\n"
     ]
    }
   ],
   "source": [
    "vert = data[i-1, 0]\n",
    "horiz = data[i-1, 1]\n",
    "print('Vertical Tile:', vert, 'Horizontal Tile:', horiz)"
   ]
  },
  {
   "cell_type": "markdown",
   "metadata": {},
   "source": [
    "使用此方法容易找到自己想要的点对应的tile。\n",
    "\n",
    "接下来看看用代码快速下载modis数据的方法。参考资料：\n",
    "\n",
    "- [jgomezdans/get_modis](https://github.com/jgomezdans/get_modis)"
   ]
  },
  {
   "cell_type": "markdown",
   "metadata": {},
   "source": [
    "读取 home文件夹下 .netrc文件中的用户名和密码"
   ]
  },
  {
   "cell_type": "code",
   "execution_count": 6,
   "metadata": {},
   "outputs": [],
   "source": [
    "import os\n",
    "netrcDir = os.path.expanduser(os.path.join(\"~\",\".netrc\"))"
   ]
  },
  {
   "cell_type": "code",
   "execution_count": 7,
   "metadata": {},
   "outputs": [],
   "source": [
    "from netrc import netrc"
   ]
  },
  {
   "cell_type": "code",
   "execution_count": 8,
   "metadata": {},
   "outputs": [],
   "source": [
    "urs = 'urs.earthdata.nasa.gov'\n",
    "username=netrc(netrcDir).authenticators(urs)[0]\n",
    "password=netrc(netrcDir).authenticators(urs)[2]"
   ]
  },
  {
   "cell_type": "markdown",
   "metadata": {},
   "source": [
    "这里就不显示了，自己执行后就能看到username和password了，接着就在命令行中试一下下载数据。\n",
    "\n",
    "在本文件夹下打开终端，并激活python环境，使用get_modis.py -h命令查看函数功能：\n",
    "\n",
    "```Shell\n",
    "conda activate aqualord\n",
    "get_modis.py -h\n",
    "```\n",
    "\n",
    "-s 即平台必须是 MOLA (Aqua), MOLT (Terra) 或 MOTA (Combined) 之一。\n",
    "\n",
    "想要确定自己想要的数据到底是什么平台的，可以在这个网站上查询：https://e4ftl01.cr.usgs.gov/\n",
    "\n",
    "-p 产品必须在产品名称后面注明收集的内容，比如 MCD45A1.005\n",
    "\n",
    "-b 和-e的标志是可选的，如果你只想得到完整的年份，可以忽略它们。"
   ]
  },
  {
   "cell_type": "markdown",
   "metadata": {},
   "source": [
    "比如我们想要下载 mod13q1v006 数据，tile是 h27v06， 我们下载2020年的第一天（DoY为1）一直到第一个月最后一天（左闭右开区间，所以DoY为32），那么就执行下面的代码：\n",
    "\n",
    "```Shell\n",
    "get_modis.py -u <你的用户名> -P <你的密码> -v -p MOD13Q1.006 -s MOLT -y 2020 -t h27v06 -o data -b 1 -e 32\n",
    "```\n",
    "\n",
    "运行过程中会搜索需要下载的文件，比较慢，不是没反应，请耐心等待。\n",
    "\n",
    "一次不要下载太多，否则会被服务器拒绝访问的，最好半年内。"
   ]
  }
 ],
 "metadata": {
  "kernelspec": {
   "display_name": "Python 3 (ipykernel)",
   "language": "python",
   "name": "python3"
  },
  "language_info": {
   "codemirror_mode": {
    "name": "ipython",
    "version": 3
   },
   "file_extension": ".py",
   "mimetype": "text/x-python",
   "name": "python",
   "nbconvert_exporter": "python",
   "pygments_lexer": "ipython3",
   "version": "3.9.7"
  }
 },
 "nbformat": 4,
 "nbformat_minor": 4
}
