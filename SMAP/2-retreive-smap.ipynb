{
 "cells": [
  {
   "cell_type": "markdown",
   "metadata": {},
   "source": [
    "# SMAP数据获取\n",
    "\n",
    "看看如何下载并读取SMAP数据。主要参考资料如下：\n",
    "\n",
    "- [nsidc/smap_python_notebooks](https://github.com/nsidc/smap_python_notebooks)\n",
    "- [TUW-GEO/smap_io](https://github.com/TUW-GEO/smap_io)\n",
    "- [Docs » smap_io](https://smap-io.readthedocs.io/en/latest/)\n",
    "\n",
    "在网站上手动下载的方式可以参考[这里](https://www.mtu.edu/mtri/research/outreach/soil-moisture/smap-worldview-how-to.pdf)\n",
    "\n",
    "其他比如R语言工具可以参考[这里](https://github.com/ropensci/smapr)"
   ]
  },
  {
   "cell_type": "markdown",
   "metadata": {},
   "source": [
    "python下直接使用 `requests` 库来批量下载 SMAP 数据。\n",
    "\n",
    "## 从 NSIDC 批量下载数据\n",
    "\n",
    "* [这里](https://nsidc.org/support/faq/what-options-are-available-bulk-downloading-data-https-earthdata-login-enabled) 有更多关于从 NSIDC 下载数据的说明\n",
    "* SMAP 数据通过下面的地址获取（需要earth data账户，如果要创建一个NASA Earthdata登录账户，请到[Earthdata登录网站](https://urs.earthdata.nasa.gov/)；可能也需要科学上网）:\n",
    "    * https://n5eil02u.ecs.nsidc.org/opendap/SMAP/\n",
    "* 下面的例子是 **SPL3SMP version 007**，其他数据获取方法类似"
   ]
  },
  {
   "cell_type": "markdown",
   "metadata": {},
   "source": [
    "import packages"
   ]
  },
  {
   "cell_type": "code",
   "execution_count": 1,
   "metadata": {},
   "outputs": [],
   "source": [
    "import calendar\n",
    "import os\n",
    "\n",
    "import requests"
   ]
  },
  {
   "cell_type": "markdown",
   "metadata": {},
   "source": [
    "Create a directory to store our data downloads."
   ]
  },
  {
   "cell_type": "code",
   "execution_count": 2,
   "metadata": {},
   "outputs": [],
   "source": [
    "this_dir = os.getcwd()\n",
    "DATA_DIR = os.path.join(this_dir, 'data/L3_SM_P')\n",
    "\n",
    "if not os.path.exists(DATA_DIR):\n",
    "    os.makedirs(DATA_DIR)"
   ]
  },
  {
   "cell_type": "markdown",
   "metadata": {},
   "source": [
    "下面创建一个函数来返回我们想要下载的数据的网址和文件名。\n",
    "\n",
    "对于SMAP数据，按年、月、日来，文件名的其余部分是可以预测的。"
   ]
  },
  {
   "cell_type": "code",
   "execution_count": 12,
   "metadata": {},
   "outputs": [],
   "source": [
    "def SMAP_L3_P_36km_Path(year, month, day):\n",
    "    fpath_start = 'https://n5eil01u.ecs.nsidc.org/SMAP/'\n",
    "    host = 'https://n5eil01u.ecs.nsidc.org/'\n",
    "    version = '.007'\n",
    "    url_path = '{host}/SMAP/SPL3SMP{version}/{year}.{month:02}.{day:02}/'.format(host=host,\n",
    "                                                                                 version=version,\n",
    "                                                                                 year=year,\n",
    "                                                                                 month=month,\n",
    "                                                                                 day=day)\n",
    "    filename = 'SMAP_L3_SM_P_{year}{month:02}{day:02}_R17000_001.h5'.format(year=year, \n",
    "                                                                            month=month, \n",
    "                                                                            day=day)\n",
    "\n",
    "    smap_data_path = url_path + filename\n",
    "    \n",
    "    return smap_data_path, filename"
   ]
  },
  {
   "cell_type": "markdown",
   "metadata": {},
   "source": [
    "为用户名和密码添加变量，请编辑一个.netrc文件如下所示，然后将该文件放到home文件夹下面。\n",
    "\n",
    "```.netrc\n",
    "machine urs.earthdata.nasa.gov\n",
    "login <你的用户名>\n",
    "password <你的密码>\n",
    "```\n",
    "\n",
    "*注意：不要与任何人分享你的用户名和密码！*。"
   ]
  },
  {
   "cell_type": "code",
   "execution_count": 13,
   "metadata": {},
   "outputs": [],
   "source": [
    "from netrc import netrc\n",
    "import os\n",
    "netrcDir = os.path.expanduser(os.path.join(\"~\",\".netrc\"))\n",
    "urs = 'urs.earthdata.nasa.gov'\n",
    "username=netrc(netrcDir).authenticators(urs)[0]\n",
    "password=netrc(netrcDir).authenticators(urs)[2]\n",
    "\n",
    "assert username and password, 'You must supply your Earthdata username and password!'"
   ]
  },
  {
   "cell_type": "markdown",
   "metadata": {},
   "source": [
    "下面尝试下载2017年3月的数据"
   ]
  },
  {
   "cell_type": "code",
   "execution_count": 14,
   "metadata": {
    "scrolled": true
   },
   "outputs": [
    {
     "name": "stdout",
     "output_type": "stream",
     "text": [
      "Downloading SMAP data for: 2017-03-01\n",
      "SMAP_L3_SM_P_20170301_R17000_001.h5 downloaded\n",
      "*** SM data saved to: G:\\Code\\aqualord\\SMAP\\data/L3_SM_P\\SMAP_L3_SM_P_20170301_R17000_001.h5 *** \n",
      "Downloading SMAP data for: 2017-03-02\n",
      "SMAP_L3_SM_P_20170302_R17000_001.h5 downloaded\n",
      "*** SM data saved to: G:\\Code\\aqualord\\SMAP\\data/L3_SM_P\\SMAP_L3_SM_P_20170302_R17000_001.h5 *** \n",
      "Downloading SMAP data for: 2017-03-03\n",
      "SMAP_L3_SM_P_20170303_R17000_001.h5 downloaded\n",
      "*** SM data saved to: G:\\Code\\aqualord\\SMAP\\data/L3_SM_P\\SMAP_L3_SM_P_20170303_R17000_001.h5 *** \n",
      "Downloading SMAP data for: 2017-03-04\n",
      "SMAP_L3_SM_P_20170304_R17000_001.h5 downloaded\n",
      "*** SM data saved to: G:\\Code\\aqualord\\SMAP\\data/L3_SM_P\\SMAP_L3_SM_P_20170304_R17000_001.h5 *** \n",
      "Downloading SMAP data for: 2017-03-05\n",
      "SMAP_L3_SM_P_20170305_R17000_001.h5 downloaded\n",
      "*** SM data saved to: G:\\Code\\aqualord\\SMAP\\data/L3_SM_P\\SMAP_L3_SM_P_20170305_R17000_001.h5 *** \n",
      "Downloading SMAP data for: 2017-03-06\n",
      "SMAP_L3_SM_P_20170306_R17000_001.h5 downloaded\n",
      "*** SM data saved to: G:\\Code\\aqualord\\SMAP\\data/L3_SM_P\\SMAP_L3_SM_P_20170306_R17000_001.h5 *** \n",
      "Downloading SMAP data for: 2017-03-07\n",
      "SMAP_L3_SM_P_20170307_R17000_001.h5 downloaded\n",
      "*** SM data saved to: G:\\Code\\aqualord\\SMAP\\data/L3_SM_P\\SMAP_L3_SM_P_20170307_R17000_001.h5 *** \n",
      "Downloading SMAP data for: 2017-03-08\n",
      "SMAP_L3_SM_P_20170308_R17000_001.h5 downloaded\n",
      "*** SM data saved to: G:\\Code\\aqualord\\SMAP\\data/L3_SM_P\\SMAP_L3_SM_P_20170308_R17000_001.h5 *** \n",
      "Downloading SMAP data for: 2017-03-09\n",
      "SMAP_L3_SM_P_20170309_R17000_001.h5 downloaded\n",
      "*** SM data saved to: G:\\Code\\aqualord\\SMAP\\data/L3_SM_P\\SMAP_L3_SM_P_20170309_R17000_001.h5 *** \n",
      "Downloading SMAP data for: 2017-03-10\n",
      "SMAP_L3_SM_P_20170310_R17000_001.h5 downloaded\n",
      "*** SM data saved to: G:\\Code\\aqualord\\SMAP\\data/L3_SM_P\\SMAP_L3_SM_P_20170310_R17000_001.h5 *** \n",
      "Downloading SMAP data for: 2017-03-11\n",
      "SMAP_L3_SM_P_20170311_R17000_001.h5 downloaded\n",
      "*** SM data saved to: G:\\Code\\aqualord\\SMAP\\data/L3_SM_P\\SMAP_L3_SM_P_20170311_R17000_001.h5 *** \n",
      "Downloading SMAP data for: 2017-03-12\n",
      "SMAP_L3_SM_P_20170312_R17000_001.h5 downloaded\n",
      "*** SM data saved to: G:\\Code\\aqualord\\SMAP\\data/L3_SM_P\\SMAP_L3_SM_P_20170312_R17000_001.h5 *** \n",
      "Downloading SMAP data for: 2017-03-13\n",
      "SMAP_L3_SM_P_20170313_R17000_001.h5 downloaded\n",
      "*** SM data saved to: G:\\Code\\aqualord\\SMAP\\data/L3_SM_P\\SMAP_L3_SM_P_20170313_R17000_001.h5 *** \n",
      "Downloading SMAP data for: 2017-03-14\n",
      "SMAP_L3_SM_P_20170314_R17000_001.h5 downloaded\n",
      "*** SM data saved to: G:\\Code\\aqualord\\SMAP\\data/L3_SM_P\\SMAP_L3_SM_P_20170314_R17000_001.h5 *** \n",
      "Downloading SMAP data for: 2017-03-15\n",
      "SMAP_L3_SM_P_20170315_R17000_001.h5 downloaded\n",
      "*** SM data saved to: G:\\Code\\aqualord\\SMAP\\data/L3_SM_P\\SMAP_L3_SM_P_20170315_R17000_001.h5 *** \n",
      "Downloading SMAP data for: 2017-03-16\n",
      "SMAP_L3_SM_P_20170316_R17000_001.h5 downloaded\n",
      "*** SM data saved to: G:\\Code\\aqualord\\SMAP\\data/L3_SM_P\\SMAP_L3_SM_P_20170316_R17000_001.h5 *** \n",
      "Downloading SMAP data for: 2017-03-17\n",
      "SMAP_L3_SM_P_20170317_R17000_001.h5 downloaded\n",
      "*** SM data saved to: G:\\Code\\aqualord\\SMAP\\data/L3_SM_P\\SMAP_L3_SM_P_20170317_R17000_001.h5 *** \n",
      "Downloading SMAP data for: 2017-03-18\n",
      "SMAP_L3_SM_P_20170318_R17000_001.h5 downloaded\n",
      "*** SM data saved to: G:\\Code\\aqualord\\SMAP\\data/L3_SM_P\\SMAP_L3_SM_P_20170318_R17000_001.h5 *** \n",
      "Downloading SMAP data for: 2017-03-19\n",
      "SMAP_L3_SM_P_20170319_R17000_001.h5 downloaded\n",
      "*** SM data saved to: G:\\Code\\aqualord\\SMAP\\data/L3_SM_P\\SMAP_L3_SM_P_20170319_R17000_001.h5 *** \n",
      "Downloading SMAP data for: 2017-03-20\n",
      "SMAP_L3_SM_P_20170320_R17000_001.h5 downloaded\n",
      "*** SM data saved to: G:\\Code\\aqualord\\SMAP\\data/L3_SM_P\\SMAP_L3_SM_P_20170320_R17000_001.h5 *** \n",
      "Downloading SMAP data for: 2017-03-21\n",
      "SMAP_L3_SM_P_20170321_R17000_001.h5 downloaded\n",
      "*** SM data saved to: G:\\Code\\aqualord\\SMAP\\data/L3_SM_P\\SMAP_L3_SM_P_20170321_R17000_001.h5 *** \n",
      "Downloading SMAP data for: 2017-03-22\n",
      "SMAP_L3_SM_P_20170322_R17000_001.h5 downloaded\n",
      "*** SM data saved to: G:\\Code\\aqualord\\SMAP\\data/L3_SM_P\\SMAP_L3_SM_P_20170322_R17000_001.h5 *** \n",
      "Downloading SMAP data for: 2017-03-23\n",
      "SMAP_L3_SM_P_20170323_R17000_001.h5 downloaded\n",
      "*** SM data saved to: G:\\Code\\aqualord\\SMAP\\data/L3_SM_P\\SMAP_L3_SM_P_20170323_R17000_001.h5 *** \n",
      "Downloading SMAP data for: 2017-03-24\n",
      "SMAP_L3_SM_P_20170324_R17000_001.h5 downloaded\n",
      "*** SM data saved to: G:\\Code\\aqualord\\SMAP\\data/L3_SM_P\\SMAP_L3_SM_P_20170324_R17000_001.h5 *** \n",
      "Downloading SMAP data for: 2017-03-25\n",
      "SMAP_L3_SM_P_20170325_R17000_001.h5 downloaded\n",
      "*** SM data saved to: G:\\Code\\aqualord\\SMAP\\data/L3_SM_P\\SMAP_L3_SM_P_20170325_R17000_001.h5 *** \n",
      "Downloading SMAP data for: 2017-03-26\n",
      "SMAP_L3_SM_P_20170326_R17000_001.h5 downloaded\n",
      "*** SM data saved to: G:\\Code\\aqualord\\SMAP\\data/L3_SM_P\\SMAP_L3_SM_P_20170326_R17000_001.h5 *** \n",
      "Downloading SMAP data for: 2017-03-27\n",
      "SMAP_L3_SM_P_20170327_R17000_001.h5 downloaded\n",
      "*** SM data saved to: G:\\Code\\aqualord\\SMAP\\data/L3_SM_P\\SMAP_L3_SM_P_20170327_R17000_001.h5 *** \n",
      "Downloading SMAP data for: 2017-03-28\n",
      "SMAP_L3_SM_P_20170328_R17000_001.h5 downloaded\n",
      "*** SM data saved to: G:\\Code\\aqualord\\SMAP\\data/L3_SM_P\\SMAP_L3_SM_P_20170328_R17000_001.h5 *** \n",
      "Downloading SMAP data for: 2017-03-29\n",
      "SMAP_L3_SM_P_20170329_R17000_001.h5 downloaded\n",
      "*** SM data saved to: G:\\Code\\aqualord\\SMAP\\data/L3_SM_P\\SMAP_L3_SM_P_20170329_R17000_001.h5 *** \n",
      "Downloading SMAP data for: 2017-03-30\n",
      "SMAP_L3_SM_P_20170330_R17000_001.h5 downloaded\n",
      "*** SM data saved to: G:\\Code\\aqualord\\SMAP\\data/L3_SM_P\\SMAP_L3_SM_P_20170330_R17000_001.h5 *** \n",
      "Downloading SMAP data for: 2017-03-31\n",
      "SMAP_L3_SM_P_20170331_R17000_001.h5 downloaded\n",
      "*** SM data saved to: G:\\Code\\aqualord\\SMAP\\data/L3_SM_P\\SMAP_L3_SM_P_20170331_R17000_001.h5 *** \n"
     ]
    }
   ],
   "source": [
    "# Download data for March 2017\n",
    "year = 2017\n",
    "month = 3\n",
    "_, days_in_month = calendar.monthrange(2017, 3)  # 31 days in March 2017\n",
    "\n",
    "# Use a requests session to keep track of authentication credentials\n",
    "with requests.Session() as session:\n",
    "    session.auth = (username, password)\n",
    "    \n",
    "    for day in range(1, days_in_month + 1):\n",
    "        print('Downloading SMAP data for: '+str(year)+'-'+str(month).zfill(2)+'-'+str(day).zfill(2))\n",
    "\n",
    "        full_path, file_name = SMAP_L3_P_36km_Path(year, month, day)\n",
    "        filepath = os.path.join(DATA_DIR, file_name)\n",
    "\n",
    "        response = session.get(full_path)\n",
    "        # If the response code is 401, we still need to authorize with earthdata.\n",
    "        if response.status_code == 401:\n",
    "            response = session.get(response.url)\n",
    "        assert response.ok, 'Problem downloading data! Reason: {}'.format(response.reason)\n",
    "\n",
    "        with open(filepath, 'wb') as f:\n",
    "            f.write(response.content)\n",
    "\n",
    "        print(file_name + ' downloaded')\n",
    "        print('*** SM data saved to: '+ filepath +' *** ')"
   ]
  },
  {
   "cell_type": "markdown",
   "metadata": {},
   "source": [
    "现在就有了批量下载的工具了!\n",
    "\n",
    "**FYI这些脚本可能需要很长的时间，特别是如果下载较大的文件。\n",
    "* SMAP 36公里的数据为30MB。\n",
    "* SMAP 9公里的数据是~300MB\n",
    "* SMAP 3公里的数据是~2GB\n",
    "\n",
    "** 这就是为什么OPENDAP在某些情况下更有意义 **\n",
    "\n",
    "更多关于如何通过[WGET](https://www.gnu.org/software/wget/)和[OPENDAP](https://www.opendap.org)从[NSIDC 数据门户](https://n5eil01u.ecs.nsidc.org/SMAP/)获得SMAP数据的地方和方法可以参考以下资料，这里暂不尝试了。\n",
    "\n",
    "- [What is OPeNDAP?](https://earthdata.nasa.gov/collaborate/open-data-services-and-software/api/opendap)\n",
    "- [Easy access to the NASA HDF products via OPeNDAP’s Hyrax](https://www.hdfgroup.org/2016/04/access-nasa-hdf-products-via-opendap-hyrax/)"
   ]
  },
  {
   "cell_type": "markdown",
   "metadata": {},
   "source": [
    "## SMAP数据处理演示\n",
    "\n",
    "下面的脚本提供了关于如何完成以下任务的例子。\n",
    "\n",
    "1. 读入SMAP数据并浏览元数据\n",
    "2. 用SMAP数据创建一个地图\n",
    "3. 在地球上的某个位置绘制时间序列图"
   ]
  },
  {
   "cell_type": "code",
   "execution_count": 15,
   "metadata": {},
   "outputs": [],
   "source": [
    "import datetime as dt\n",
    "import glob\n",
    "import h5py\n",
    "%matplotlib inline\n",
    "import matplotlib.pyplot as plt\n",
    "import numpy as np\n",
    "import os\n",
    "import pandas as pd\n",
    "import xarray as xr"
   ]
  },
  {
   "cell_type": "code",
   "execution_count": 17,
   "metadata": {},
   "outputs": [],
   "source": [
    "import cartopy"
   ]
  },
  {
   "cell_type": "markdown",
   "metadata": {},
   "source": [
    "### 读取SMAP数据\n",
    "\n",
    "* 首先我们进入到装有我们想用于演示的数据的文件夹。\n",
    "* 列出文件夹内的文件清单并打印出来。"
   ]
  },
  {
   "cell_type": "code",
   "execution_count": 18,
   "metadata": {},
   "outputs": [
    {
     "name": "stdout",
     "output_type": "stream",
     "text": [
      "File we are using: G:\\Code\\aqualord\\SMAP\\data/L3_SM_P\\SMAP_L3_SM_P_20170301_R17000_001.h5\n",
      "\n"
     ]
    }
   ],
   "source": [
    "this_dir = os.getcwd()\n",
    "L3_SM_P_dir = os.path.join(this_dir, 'data/L3_SM_P/')\n",
    "\n",
    "flist = glob.glob(os.path.join(L3_SM_P_dir, '*.h5'))\n",
    "           \n",
    "filename = flist[0]; \n",
    "print(\"File we are using: \" + filename + '\\n')"
   ]
  },
  {
   "cell_type": "markdown",
   "metadata": {},
   "source": [
    "* 现在用h5py.File()来打开这个文件\n",
    "* 然后可以查看文件中的文件夹来访问我们想要的数据"
   ]
  },
  {
   "cell_type": "code",
   "execution_count": 19,
   "metadata": {},
   "outputs": [
    {
     "name": "stdout",
     "output_type": "stream",
     "text": [
      "By using the command h5py.File() a filehandle is returned:\n",
      "<HDF5 file \"SMAP_L3_SM_P_20170301_R17000_001.h5\" (mode r)>\n",
      "\n",
      "\n",
      "Now lets look at the groups within the file to access:\n",
      "0\tMetadata\n",
      "1\tSoil_Moisture_Retrieval_Data_AM\n",
      "2\tSoil_Moisture_Retrieval_Data_PM\n",
      "\n",
      "\n",
      "Now lets look at the variables within the filegroup **Soil_Moisture_Retrieval_Data_AM** to access the actual data:\n",
      "0\tEASE_column_index\n",
      "1\tEASE_row_index\n",
      "2\talbedo\n",
      "3\talbedo_dca\n",
      "4\talbedo_scah\n",
      "5\talbedo_scav\n",
      "6\tboresight_incidence\n",
      "7\tbulk_density\n",
      "8\tclay_fraction\n",
      "9\tfreeze_thaw_fraction\n",
      "10\tgrid_surface_status\n",
      "11\tlandcover_class\n",
      "12\tlandcover_class_fraction\n",
      "13\tlatitude\n",
      "14\tlatitude_centroid\n",
      "15\tlongitude\n",
      "16\tlongitude_centroid\n",
      "17\tradar_water_body_fraction\n",
      "18\tretrieval_qual_flag\n",
      "19\tretrieval_qual_flag_dca\n",
      "20\tretrieval_qual_flag_scah\n",
      "21\tretrieval_qual_flag_scav\n",
      "22\troughness_coefficient\n",
      "23\troughness_coefficient_dca\n",
      "24\troughness_coefficient_scah\n",
      "25\troughness_coefficient_scav\n",
      "26\tsoil_moisture\n",
      "27\tsoil_moisture_dca\n",
      "28\tsoil_moisture_error\n",
      "29\tsoil_moisture_scah\n",
      "30\tsoil_moisture_scav\n",
      "31\tstatic_water_body_fraction\n",
      "32\tsurface_flag\n",
      "33\tsurface_temperature\n",
      "34\tsurface_water_fraction_mb_h\n",
      "35\tsurface_water_fraction_mb_v\n",
      "36\ttb_3_corrected\n",
      "37\ttb_4_corrected\n",
      "38\ttb_h_corrected\n",
      "39\ttb_h_uncorrected\n",
      "40\ttb_qual_flag_3\n",
      "41\ttb_qual_flag_4\n",
      "42\ttb_qual_flag_h\n",
      "43\ttb_qual_flag_v\n",
      "44\ttb_time_seconds\n",
      "45\ttb_time_utc\n",
      "46\ttb_v_corrected\n",
      "47\ttb_v_uncorrected\n",
      "48\tvegetation_opacity\n",
      "49\tvegetation_opacity_dca\n",
      "50\tvegetation_opacity_scah\n",
      "51\tvegetation_opacity_scav\n",
      "52\tvegetation_water_content\n"
     ]
    }
   ],
   "source": [
    "f = h5py.File(filename, 'r')\n",
    "print('By using the command h5py.File() a filehandle is returned:')\n",
    "print(f); print('\\n')\n",
    "\n",
    "print(\"Now lets look at the groups within the file to access:\")\n",
    "i=0;\n",
    "for key in f.keys():\n",
    "    print(str(i)+ '\\t'+key)\n",
    "    i+=1\n",
    "group_id=list(f.keys())[1];# < Lets focus on the AM overpass for this example\n",
    "print('\\n')\n",
    "i=0\n",
    "print(\"Now lets look at the variables within the filegroup **Soil_Moisture_Retrieval_Data_AM** to access the actual data:\")\n",
    "for var in list(f[group_id].keys()):\n",
    "    print(str(i)+'\\t'+var)\n",
    "    i+=1"
   ]
  },
  {
   "cell_type": "markdown",
   "metadata": {},
   "source": [
    "好了，现在我们知道了Soil_Moisture_Retrieval_Data_AM中的变量，让我们来抓取我们想做的土壤湿度图的数据。\n",
    "\n",
    "* 首先让我们看一下形状\n",
    "    - 我们稍后在打开经纬度数据集时将需要它。"
   ]
  },
  {
   "cell_type": "code",
   "execution_count": 20,
   "metadata": {},
   "outputs": [
    {
     "name": "stdout",
     "output_type": "stream",
     "text": [
      "the data has a shape of: (406, 964)\n"
     ]
    }
   ],
   "source": [
    "print('the data has a shape of: '+str(f[group_id][list(f[group_id].keys())[0]].shape))"
   ]
  },
  {
   "cell_type": "markdown",
   "metadata": {},
   "source": [
    "* 现在从上面选择键，得到我们要绘制的变量。"
   ]
  },
  {
   "cell_type": "code",
   "execution_count": 21,
   "metadata": {},
   "outputs": [
    {
     "name": "stdout",
     "output_type": "stream",
     "text": [
      "data are returned as <class 'numpy.ndarray'> something easy to work with in python.\n"
     ]
    }
   ],
   "source": [
    "var_id = list(f[group_id].keys())[26] # soil_moisture\n",
    "sm_data = f[group_id][var_id][:,:]\n",
    "sm_ds = f[group_id][var_id]\n",
    "print('data are returned as '+str(type(sm_data)) + ' something easy to work with in python.')"
   ]
  },
  {
   "cell_type": "code",
   "execution_count": 22,
   "metadata": {},
   "outputs": [
    {
     "name": "stdout",
     "output_type": "stream",
     "text": [
      "[ 0  1  5  7  8  9 13 15]\n",
      "<class 'numpy.ndarray'>\n"
     ]
    }
   ],
   "source": [
    "ret_flag_L3_P = f[group_id]['retrieval_qual_flag'][:,:]\n",
    "print(np.unique(ret_flag_L3_P))\n",
    "print(type(ret_flag_L3_P))"
   ]
  },
  {
   "cell_type": "markdown",
   "metadata": {},
   "source": [
    "### Create a map with SMAP data\n",
    "* Lets plot the data to get a sense of what we are working with"
   ]
  },
  {
   "cell_type": "code",
   "execution_count": 23,
   "metadata": {},
   "outputs": [
    {
     "data": {
      "image/png": "[encoded data removed]",
      "text/plain": [
       "<Figure size 432x288 with 2 Axes>"
      ]
     },
     "metadata": {
      "needs_background": "light"
     },
     "output_type": "display_data"
    }
   ],
   "source": [
    "plt.imshow(sm_data)\n",
    "cbar = plt.colorbar(orientation = 'horizontal')\n",
    "cbar.set_label('$cm^3 cm^{-3}$')"
   ]
  },
  {
   "cell_type": "markdown",
   "metadata": {},
   "source": [
    "Ok we have to ignore the null values to get a better idea of the range in values of the dataset.\n",
    "\n",
    "You can find these null values in the meta data of the supplemental documents.\n",
    "\n",
    "We know for soil moisture and most smap datasets it to be -9999.\n",
    "This is located under the attributes for the 'soil_moisture' variable"
   ]
  },
  {
   "cell_type": "code",
   "execution_count": null,
   "metadata": {},
   "outputs": [],
   "source": [
    "print(f[group_id][var_id].attrs['_FillValue'])"
   ]
  },
  {
   "cell_type": "code",
   "execution_count": null,
   "metadata": {},
   "outputs": [],
   "source": [
    "sm_data[sm_data==f[group_id][var_id].attrs['_FillValue']]=np.nan;\n",
    "plt.imshow(sm_data,vmin=0.,vmax=0.55, cmap = 'terrain_r');\n",
    "cbar = plt.colorbar(orientation='horizontal')\n",
    "cbar.set_label('$cm^3 cm^{-3}$')"
   ]
  },
  {
   "cell_type": "markdown",
   "metadata": {},
   "source": [
    "How about we spruce this up with some coastlines, and geolocate the data using the lat, lon data?\n",
    "\n",
    "Below we load the EASE2 grid lon and lat datasets.  These can be found on the NSIDC website."
   ]
  },
  {
   "cell_type": "code",
   "execution_count": null,
   "metadata": {},
   "outputs": [],
   "source": [
    "# Read binary files and reshape to correct size\n",
    "lats = np.fromfile('EASE2_M36km.lats.964x406x1.double', \n",
    "                      dtype=np.float64).reshape((406,964))#< reshape to dimensions above\n",
    "lons = np.fromfile('EASE2_M36km.lons.964x406x1.double', \n",
    "                      dtype=np.float64).reshape((406,964))"
   ]
  },
  {
   "cell_type": "markdown",
   "metadata": {},
   "source": [
    "Now lets use basemap to plot the dataset\n",
    "\n",
    "There are many online tutorials for basemap, to focus in on a region, and it provides lots of ways to display the data."
   ]
  },
  {
   "cell_type": "code",
   "execution_count": null,
   "metadata": {},
   "outputs": [],
   "source": [
    "fig = plt.figure(figsize=(10,6))\n",
    "m = Basemap(resolution='l',projection='robin',lat_ts=40,lat_0=lats.mean(),lon_0=lons.mean())\n",
    "xi, yi = m(lons, lats)\n",
    "cs = m.pcolor(xi,yi,sm_data, vmin = 0., vmax = 0.55, cmap = 'terrain_r')\n",
    "m.drawcoastlines()\n",
    "cbar = m.colorbar(cs, location='bottom', pad=\"5%\")\n",
    "cbar.set_label('$cm^3 cm^{-3}$')"
   ]
  },
  {
   "cell_type": "markdown",
   "metadata": {},
   "source": [
    "Awesome! We now can make a global plot, lets see if we can make this a bit more streamlined to process more data and create a time series.\n",
    "\n",
    "### Plot a time-series at a location on Earth\n",
    "* Lets stick with the L3 SM P dataset because the data isnt that big and its what I could put on your flashdrives for the demo.\n",
    "\n",
    "Lets start by navigating back to the L3_SM_P directory & creating a filelist and a make a 3-d array to work wiht"
   ]
  },
  {
   "cell_type": "code",
   "execution_count": null,
   "metadata": {},
   "outputs": [],
   "source": [
    "for fName in flist:\n",
    "    print(fName)"
   ]
  },
  {
   "cell_type": "markdown",
   "metadata": {},
   "source": [
    "* Lets make a function to load some data.\n",
    "\n"
   ]
  },
  {
   "cell_type": "code",
   "execution_count": null,
   "metadata": {},
   "outputs": [],
   "source": [
    "def read_SML3P(filepath):\n",
    "    ''' This function extracts lat, lon and soil moisture from SMAP L3 P HDF5 file.\n",
    "    \n",
    "    Parameters\n",
    "    ----------\n",
    "    filepath : str\n",
    "        File path of a SMAP L3 HDF5 file\n",
    "    Returns\n",
    "    -------\n",
    "    soil_moisture_am: numpy.array\n",
    "    '''    \n",
    "    with h5py.File(filepath, 'r') as f:\n",
    "        # Extract data info\n",
    "        group_id_am = 'Soil_Moisture_Retrieval_Data_AM'\n",
    "        var_id_am = 'soil_moisture'\n",
    "        flag_id_am = 'retrieval_qual_flag'\n",
    "        soil_moisture_am = f[group_id_am][var_id_am][:,:]\n",
    "        flag_am = f[group_id_am][flag_id_am][:,:]\n",
    "        soil_moisture_am[soil_moisture_am==-9999.0]=np.nan;\n",
    "        soil_moisture_am[(flag_am>>0)&1==1]=np.nan\n",
    "        filename = os.path.basename(filepath)\n",
    "        yyyymmdd= filename.split('_')[4]\n",
    "        yyyy = int(yyyymmdd[0:4]);        mm = int(yyyymmdd[4:6]);        dd = int(yyyymmdd[6:8])\n",
    "        date=dt.datetime(yyyy,mm,dd)\n",
    "    return soil_moisture_am,date"
   ]
  },
  {
   "cell_type": "markdown",
   "metadata": {},
   "source": [
    "* Lets check if it works:"
   ]
  },
  {
   "cell_type": "code",
   "execution_count": null,
   "metadata": {},
   "outputs": [],
   "source": [
    "sm_test,date = read_SML3P(flist[0])\n",
    "plt.imshow(sm_test)\n",
    "cbar = plt.colorbar(orientation='horizontal')\n",
    "cbar.set_label('$cm^3 cm^{-3}$')\n",
    "plt.title(date)"
   ]
  },
  {
   "cell_type": "markdown",
   "metadata": {},
   "source": [
    "* Now that we have that working lets add everything to a 3-d array, remember time is the 3rd dimension\n",
    "* For larger datasets (i.e. 3km data or even 9km data you need to get creative to do on your local machine)"
   ]
  },
  {
   "cell_type": "code",
   "execution_count": null,
   "metadata": {},
   "outputs": [],
   "source": [
    "sm_data_3d = np.empty([sm_data.shape[0],sm_data.shape[1],len(flist)])\n",
    "times = []\n",
    "print('sm_data_3d has dimensions '+str(sm_data_3d.shape))\n",
    "i=0\n",
    "for fName in flist:\n",
    "    sm_data_3d[:,:,i],time_i = read_SML3P(fName)\n",
    "    times.append(time_i)\n",
    "    i+=1"
   ]
  },
  {
   "cell_type": "code",
   "execution_count": null,
   "metadata": {},
   "outputs": [],
   "source": [
    "sm_mean = np.nanmean(sm_data_3d,2)\n",
    "sm_mean.shape\n",
    "plt.imshow(sm_mean,vmin=0.,vmax=0.55,cmap='terrain_r')\n",
    "cbar = plt.colorbar(orientation='horizontal')\n",
    "cbar.set_label('$cm^3 cm^{-3}$')"
   ]
  },
  {
   "cell_type": "code",
   "execution_count": null,
   "metadata": {},
   "outputs": [],
   "source": [
    "N_lat = 37.5; \n",
    "S_lat = 33\n",
    "W_lon = -113.5\n",
    "E_lon = -110.0\n",
    "\n",
    "subset = (lats<N_lat)&(lats>S_lat)&(lons>W_lon)&(lons<E_lon);\n",
    "sm_time = np.empty([len(flist)]);\n",
    "for i in np.arange(0,sm_data_3d.shape[2]):\n",
    "    sm_2d = sm_data_3d[:,:,i]\n",
    "    sm_time[i] = np.nanmean(sm_2d[subset]); \n",
    "\n",
    "# Lets create a pandas series to plot the data\n",
    "smData = {'sm':sm_time}\n",
    "sm = pd.DataFrame(smData)\n",
    "sm['time']=times\n",
    "sm=sm.set_index('time')\n",
    "\n",
    "fig, ax1 = plt.subplots()\n",
    "ax1.plot(sm.index, sm, 'b*')       \n",
    "ax1.set_ylim([0,0.25])\n",
    "fig.autofmt_xdate()\n",
    "ax1.set_ylabel('$cm^3 cm^{-3}$')\n",
    "plt.title('Soil Moisture')"
   ]
  },
  {
   "cell_type": "code",
   "execution_count": null,
   "metadata": {},
   "outputs": [],
   "source": []
  },
  {
   "cell_type": "markdown",
   "metadata": {},
   "source": [
    "## Quality Flags & SMAP Data\n",
    "\n",
    "* Retrieval Quality Flag [combines all surface flags]\n",
    "* Surface Quality Flag [provides information on why certain area might be flagged]\n"
   ]
  },
  {
   "cell_type": "code",
   "execution_count": null,
   "metadata": {},
   "outputs": [],
   "source": [
    "import datetime as dt\n",
    "import glob\n",
    "import h5py\n",
    "%matplotlib inline\n",
    "import matplotlib.pyplot as plt\n",
    "import numpy as np\n",
    "import os"
   ]
  },
  {
   "cell_type": "markdown",
   "metadata": {},
   "source": [
    "    Read in SMAP data for level 3 dataset for this example"
   ]
  },
  {
   "cell_type": "code",
   "execution_count": null,
   "metadata": {},
   "outputs": [],
   "source": [
    "this_dir = os.getcwd()\n",
    "L3_SM_P_dir = os.path.join(this_dir, 'data/L3_SM_P/')\n",
    "\n",
    "flist = glob.glob(os.path.join(L3_SM_P_dir, '*.h5'))\n",
    "filename = flist[0]; "
   ]
  },
  {
   "cell_type": "markdown",
   "metadata": {},
   "source": [
    "Ok now lets read in variables: soil_moisture, "
   ]
  },
  {
   "cell_type": "code",
   "execution_count": null,
   "metadata": {},
   "outputs": [],
   "source": [
    "f = h5py.File(filename, 'r')\n",
    "group_id = 'Soil_Moisture_Retrieval_Data_AM'\n",
    "var_id = list(f[group_id].keys())[16] # soil_moisture\n",
    "sm_data = f[group_id][var_id][:,:]\n",
    "surf_flag_L3_P = f[group_id]['surface_flag'][:,:]"
   ]
  },
  {
   "cell_type": "markdown",
   "metadata": {},
   "source": [
    "    data are returned as <type 'numpy.ndarray'> something easy to work with in python.\n"
   ]
  },
  {
   "cell_type": "markdown",
   "metadata": {},
   "source": [
    "Lets look at the two masks:"
   ]
  },
  {
   "cell_type": "markdown",
   "metadata": {},
   "source": [
    "**Retrieval Flags**"
   ]
  },
  {
   "cell_type": "markdown",
   "metadata": {},
   "source": [
    "To clear up any confusion from the workshop on quality masking:\n",
    "\n",
    "I used over-simplified approaches to applying quality flags within the demo scripts that were hasty.\n",
    "Below are better documented directions to applying the recommended quality flags for SMAP data.\n",
    "\n",
    "Here I show the recommended quality flag from SMAP"
   ]
  },
  {
   "cell_type": "code",
   "execution_count": null,
   "metadata": {},
   "outputs": [],
   "source": [
    "# Grab the Retrieval Quality Variable\n",
    "ret_flag_L3_P = f[group_id]['retrieval_qual_flag'][:,:]\n",
    "# Create a definition for the retrieval flags\n",
    "ret_flags = {\n",
    "    0:'Recommended Quality',\n",
    "    1:'Retrieval Attempted',\n",
    "    2:'Retrieval Successful',\n",
    "    3:'Undefined'\n",
    "}\n",
    "# SMAP RECOMMENDED QUALITY BIT IS 0\n",
    "fig, ax = plt.subplots()\n",
    "\n",
    "cax = ax.imshow((ret_flag_L3_P>>0)&1, cmap=plt.cm.get_cmap('bone', 2))\n",
    "ax.set_title(ret_flags[0])\n",
    "\n",
    "cbar = fig.colorbar(cax, ticks=[0, 1], orientation='horizontal')\n",
    "cbar.ax.set_xticklabels(['Good Data', 'Not Recommended'])  # horizontal colorbar\n",
    "\n",
    "plt.show()\n"
   ]
  },
  {
   "cell_type": "markdown",
   "metadata": {},
   "source": [
    "Areas above with 0 value [black regions] are data of recommended quality.\n",
    "\n",
    "**Surface Flags**"
   ]
  },
  {
   "cell_type": "code",
   "execution_count": null,
   "metadata": {},
   "outputs": [],
   "source": [
    "surf_flags = {\n",
    "    0:'Static water',\n",
    "    1:'Radar-derived Water Fraction',\n",
    "    2:'Coastal Proximity',\n",
    "    3:'Urban Area',\n",
    "    4:'Precipitation',\n",
    "    5:'Snow',\n",
    "    6:'Ice',\n",
    "    7:'Frozen Ground (model)',\n",
    "    8:'Frozen Ground (radar)',\n",
    "    9:'Mountainous Terrain',\n",
    "    10:'Dense Vegetation',\n",
    "    11:'Nadir Region',\n",
    "    12:'Undefined'\n",
    "}"
   ]
  },
  {
   "cell_type": "markdown",
   "metadata": {},
   "source": [
    "* Based off the above recommended quality flags above the surface flags that inhibit recommende quality are as follows.  \n",
    "* Black areas show no flag, white areas show where flagged data occcur."
   ]
  },
  {
   "cell_type": "code",
   "execution_count": null,
   "metadata": {},
   "outputs": [],
   "source": [
    "for i in np.arange(0,12):\n",
    "    fig, ax = plt.subplots()\n",
    "    cax = ax.imshow((surf_flag_L3_P>>i)&1, cmap=plt.cm.get_cmap('bone', 2))\n",
    "    ax.set_title(surf_flags[i])\n",
    "    cbar = fig.colorbar(cax, ticks=[0, 1], orientation='horizontal')\n",
    "    cbar.ax.set_xticklabels(['No Flag', 'Flag Present'])  # horizontal colorbar\n",
    "    plt.show()"
   ]
  }
 ],
 "metadata": {
  "kernelspec": {
   "display_name": "Python 3 (ipykernel)",
   "language": "python",
   "name": "python3"
  },
  "language_info": {
   "codemirror_mode": {
    "name": "ipython",
    "version": 3
   },
   "file_extension": ".py",
   "mimetype": "text/x-python",
   "name": "python",
   "nbconvert_exporter": "python",
   "pygments_lexer": "ipython3",
   "version": "3.9.7"
  }
 },
 "nbformat": 4,
 "nbformat_minor": 4
}
