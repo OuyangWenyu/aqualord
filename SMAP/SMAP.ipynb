{
 "cells": [
  {
   "cell_type": "markdown",
   "metadata": {},
   "source": [
    "# SMAP简介\n",
    "\n",
    "SMAP也是水文相关文献中常用到的数据，这里根据官网介绍[SMAP | Soil Moisture Active Passive](https://smap.jpl.nasa.gov/)简单学习下其基本内容。\n",
    "\n",
    "## Mission\n",
    "\n",
    "SMAP卫星是2015年1月发射的一颗极地轨卫星，其在轨观测的是地球表面任一地区the amount of water in the top 5 cm (2 inches) of soil。\n",
    "\n",
    "The topsoil layer is the one in which **the food we eat grows and where other vegetation lives**.土壤含水量以多种方式间接影响我们。SMAP设计是三年观测期，每两三天一次。SMAP可以测量地球上任一点没有被水覆盖或冻住的地方。它还能区分冰冻或解冻的土地。Where the ground is not frozen, SMAP measures **the amount of water** found **between the minerals, rocky material, and organic particles found in soil** everywhere in the world (SMAP measures **liquid water in the top layer of ground** but is **not able to measure the ice**.)\n",
    "\n",
    "SMAP会生成全球土壤含水量图。有助于碳循环和水循环的研究。天气和气候研究也用得到SMAP数据，比如蒸发水受土壤含水量影响，土壤含水量也是理解大气和地表水热能交换的关键。 Frequent and reliable soil moisture measurements from SMAP will help improve the predictive capability of weather and climate models.\n",
    "\n",
    "## Observatory\n",
    "\n",
    "SMAP是一个遥感观测台，它携带两个仪器，**绘制土壤湿度图**，并**确定同一地区的冻融状态**。土壤含水量是通过**radar and radiometer测量的组合**来绘制的，而冻融测图是利用雷达系统测量的独特特性来完成的。 radar and radiometer都有一个共同的天线和馈电组件，但是它们在SMAP内部的电子器件是不同的。当SMAP  radar and radiometer 相结合时，将提供高精度、高分辨率的全球土壤湿度和冻融状态地图。\n",
    "（注：radiometer有时特指红外辐射检测计，但也可指检测其它各种波长的电磁辐射的检测计，比如这里是检测radio wave 无线电波的）\n",
    "\n",
    "雷达将**无线电波**（无线电波在电磁光谱中的波长是最长的）脉冲发送到地球上的一个地点，并测量几微秒后返回的回声。回声的强度和“形状”可以被解释为表明土壤的湿度水平，即使是通过中等水平的植被。由于雷达主动地发送和接收无线电波，这就是SMAP中的“主动”的来源。\n",
    "\n",
    "radiometer探测从同一小区域发射的无线电波。发射强度是当地地面温度的一个指标。由于辐射计被动地进行这些温度测量，这就是SMAP中的“被动”的来源。\n",
    "\n",
    "雷达和辐射计共用的大型天线是SMAP最突出的特征。它的工作原理就像一个卫星天线，只是要大得多，反射器收集所有的无线电波，把它们集中到馈喇叭里。馈角像一个漏斗，收集来自雷达的回波和来自辐射计的表面发射，并将它们发送到雷达和辐射计电子设备处理图像。进料喇叭是一个大圆锥体，在飞船外部可见。天线反射器是一个直径6米(约20英尺)的网状天线。\n",
    "\n",
    "为了实现对地面的大覆盖，天线以每分钟14.6转(每4秒转一圈)的速度旋转。SMAP的轨道运动与天线的自旋相结合，在一系列重叠的回路中扫过一小片视场，形成一条1000公里(621英里)宽的带状区域。这种大面积的覆盖使得SMAP能够**每2到3天重复制作完整的土壤湿度地图**。土壤湿度地图将间隔10公里(6.2英里)，而冻融地图可以区分小至3公里(1.9英里)的区域。\n",
    "\n",
    "SMAP的轨道距离地球表面685公里(426英里)。因为地球是在SMAP轨道运行时自转的，所以每条轨道的轨迹会相互偏移，8天后，同样的轨迹会重复。在2到3天的时间里(**在两极2天，在赤道3天**)，斯韦格斯带之间的空隙被填满，就可以绘制一张全球湿度和冻土地图。SMAP的两个仪器采集的数据从一极传到另一极。该轨道的方向是这样的，它穿过地球的赤道明暗界线。(明暗界线是白天和黑夜的分界线，在日出或日落时都是如此。)\n",
    "\n",
    "## Data\n",
    "\n",
    "## Application\n",
    "\n"
   ]
  }
 ],
 "metadata": {
  "kernelspec": {
   "display_name": "Python 3",
   "language": "python",
   "name": "python3"
  },
  "language_info": {
   "codemirror_mode": {
    "name": "ipython",
    "version": 3
   },
   "file_extension": ".py",
   "mimetype": "text/x-python",
   "name": "python",
   "nbconvert_exporter": "python",
   "pygments_lexer": "ipython3",
   "version": "3.7.4"
  }
 },
 "nbformat": 4,
 "nbformat_minor": 2
}
