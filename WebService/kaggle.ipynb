{
 "cells": [
  {
   "cell_type": "markdown",
   "metadata": {},
   "source": [
    "## Kaggle数据集\n",
    "\n",
    "关于kaggle数据集的基本内容可以参考：[Kaggle入门，看这一篇就够了](https://zhuanlan.zhihu.com/p/25686876)。简而言之，kaggle是一个数据的众包crowdsource平台（p.s.：现在众包数据也是水文水资源领域比较火的一个词汇），通过数据科学来帮助解决世界上棘手的问题。比赛相关内容这里就不表了。\n",
    "\n",
    "## 上传下载数据集\n",
    "\n",
    "参考了这个[视频](https://www.bilibili.com/video/av65875862/)\n",
    "\n",
    "这里以一个数据的上传和下载为例。\n",
    "\n",
    "上传数据的话，首先要登录到kaggle网站。然后在网站最上方导航栏的找到“Datasets”，点击进入页面，选择“New Dataset”。输入数据集的名称后，点击“选择文件上传”上传自己的数据。然后点击“create”即可。\n",
    "\n",
    "等待一会儿数据就会上传成功，然后可根据指引进入自己上传的数据集中。为了方便他人使用，可以添加副标题，文字描述，还有标签等。\n",
    "\n",
    "然后就是数据的下载和使用，数据下载可以参考kaggle提供的[API](https://github.com/Kaggle/kaggle-api)。首先下载kaggle库。\n",
    "\n",
    "```bash\n",
    "pip install kaggle\n",
    "```\n",
    "\n",
    "然后需要获取API credentials，点击网页右上角头像，点击“My Account”tab，进入到账号页面，页面上API栏下有 'Create API Token'，点击后，会得到一个包含API credentials的kaggle.json。把它放置到 用户根目录/.kaggle 下"
   ]
  },
  {
   "cell_type": "code",
   "execution_count": 11,
   "metadata": {},
   "outputs": [
    {
     "name": "stdout",
     "output_type": "stream",
     "text": [
      "/home/owen\n",
      "/home/owen/.kaggle\n",
      "False\n",
      "True\n"
     ]
    }
   ],
   "source": [
    "import os\n",
    "\n",
    "home_dir=os.environ['HOME']\n",
    "kaggle_dir=os.path.join(home_dir,'.kaggle')\n",
    "print (home_dir)\n",
    "print(kaggle_dir)\n",
    "print( os.path.isdir(kaggle_dir))\n",
    "if not os.path.isdir(kaggle_dir):\n",
    "    os.mkdir(os.path.join(home_dir,'.kaggle'))\n",
    "print( os.path.isdir(kaggle_dir))"
   ]
  },
  {
   "cell_type": "code",
   "execution_count": 23,
   "metadata": {},
   "outputs": [
    {
     "name": "stdout",
     "output_type": "stream",
     "text": [
      "json ready\n"
     ]
    }
   ],
   "source": [
    "import shutil\n",
    "\n",
    "src = './kaggle.json'\n",
    "kaggle_dir=os.path.join(home_dir,'.kaggle')\n",
    "dst = os.path.join(kaggle_dir,'kaggle.json')\n",
    "if not os.path.isfile(dst):\n",
    "    print(\"copying file\")\n",
    "    shutil.copy(src, dst)\n",
    "print(\"json ready\")"
   ]
  },
  {
   "cell_type": "markdown",
   "metadata": {},
   "source": [
    "然后根据官方文档的指示，直接使用命令行下载数据。"
   ]
  },
  {
   "cell_type": "code",
   "execution_count": 13,
   "metadata": {},
   "outputs": [
    {
     "name": "stdout",
     "output_type": "stream",
     "text": [
      "Warning: Your Kaggle API key is readable by other users on this system! To fix this, you can run 'chmod 600 /home/owen/.kaggle/kaggle.json'\n",
      "Downloading wbdhu4-a-us-september2019-shpfile.zip to /home/owen/Documents/Code/aqualord/kaggle\n",
      " 98%|███████████████████████████████████████▏| 101M/103M [00:03<00:00, 26.5MB/s]\n",
      "100%|████████████████████████████████████████| 103M/103M [00:03<00:00, 30.4MB/s]\n"
     ]
    }
   ],
   "source": [
    "! kaggle datasets download owenyy/wbdhu4-a-us-september2019-shpfile"
   ]
  },
  {
   "cell_type": "markdown",
   "metadata": {},
   "source": [
    "或者直接使用python api："
   ]
  },
  {
   "cell_type": "code",
   "execution_count": 21,
   "metadata": {},
   "outputs": [
    {
     "name": "stdout",
     "output_type": "stream",
     "text": [
      "Warning: Your Kaggle API key is readable by other users on this system! To fix this, you can run 'chmod 600 /home/owen/.kaggle/kaggle.json'\n"
     ]
    }
   ],
   "source": [
    "import kaggle\n",
    "\n",
    "kaggle.api.authenticate()\n",
    "kaggle.api.dataset_download_files('owenyy/wbdhu4-a-us-september2019-shpfile', path='./', )\n",
    "# kaggle.api.dataset_download_files('owenyy/wbdhu4-a-us-september2019-shpfile', path='./', unzip=True)"
   ]
  }
 ],
 "metadata": {
  "kernelspec": {
   "display_name": "Python 3",
   "language": "python",
   "name": "python3"
  },
  "language_info": {
   "codemirror_mode": {
    "name": "ipython",
    "version": 3
   },
   "file_extension": ".py",
   "mimetype": "text/x-python",
   "name": "python",
   "nbconvert_exporter": "python",
   "pygments_lexer": "ipython3",
   "version": "3.7.4"
  }
 },
 "nbformat": 4,
 "nbformat_minor": 4
}
